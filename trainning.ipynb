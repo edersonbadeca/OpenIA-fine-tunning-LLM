{
 "cells": [
  {
   "cell_type": "code",
   "id": "initial_id",
   "metadata": {
    "collapsed": true,
    "ExecuteTime": {
     "end_time": "2024-08-02T17:13:28.096826Z",
     "start_time": "2024-08-02T17:13:28.092877Z"
    }
   },
   "source": "from openai import OpenAI\n",
   "outputs": [],
   "execution_count": 3
  },
  {
   "metadata": {
    "ExecuteTime": {
     "end_time": "2024-08-02T17:13:28.156791Z",
     "start_time": "2024-08-02T17:13:28.099699Z"
    }
   },
   "cell_type": "code",
   "source": "client = OpenAI()",
   "id": "c85c39c1ee68752",
   "outputs": [],
   "execution_count": 4
  },
  {
   "metadata": {
    "ExecuteTime": {
     "end_time": "2024-08-02T17:16:35.562038Z",
     "start_time": "2024-08-02T17:16:34.323255Z"
    }
   },
   "cell_type": "code",
   "source": "client.files.create(file=open('fine_tuning_data.jsonl', 'rb'), purpose='fine-tune')",
   "id": "179a752e892707e5",
   "outputs": [
    {
     "data": {
      "text/plain": [
       "FileObject(id='file-VEryUbLeXSOKDjKtivZjND80', bytes=1605785, created_at=1722618995, filename='fine_tuning_data.jsonl', object='file', purpose='fine-tune', status='processed', status_details=None)"
      ]
     },
     "execution_count": 8,
     "metadata": {},
     "output_type": "execute_result"
    }
   ],
   "execution_count": 8
  },
  {
   "metadata": {
    "ExecuteTime": {
     "end_time": "2024-08-02T17:17:42.821629Z",
     "start_time": "2024-08-02T17:17:41.888827Z"
    }
   },
   "cell_type": "code",
   "source": "client.files.create(file=open('fine_tuning_data_val.jsonl', 'rb'), purpose='fine-tune')",
   "id": "2cc55c3adcb5f7c7",
   "outputs": [
    {
     "data": {
      "text/plain": [
       "FileObject(id='file-C1C4JPvdGySa5nCtoJSDukic', bytes=101434, created_at=1722619062, filename='fine_tuning_data_val.jsonl', object='file', purpose='fine-tune', status='processed', status_details=None)"
      ]
     },
     "execution_count": 10,
     "metadata": {},
     "output_type": "execute_result"
    }
   ],
   "execution_count": 10
  },
  {
   "metadata": {},
   "cell_type": "markdown",
   "source": "# Fine-tuning training",
   "id": "39af0bddb664152b"
  },
  {
   "metadata": {
    "ExecuteTime": {
     "end_time": "2024-08-02T17:22:37.333742Z",
     "start_time": "2024-08-02T17:22:33.587181Z"
    }
   },
   "cell_type": "code",
   "source": [
    "result = client.fine_tuning.jobs.create(\n",
    "    training_file='file-VEryUbLeXSOKDjKtivZjND80',\n",
    "    model='gpt-3.5-turbo',\n",
    "    hyperparameters={'n_epochs': 1}, # Number of times to pass over the training data\n",
    "    validation_file='file-C1C4JPvdGySa5nCtoJSDukic'\n",
    ")"
   ],
   "id": "ced14fc494173772",
   "outputs": [],
   "execution_count": 11
  },
  {
   "metadata": {
    "ExecuteTime": {
     "end_time": "2024-08-02T17:23:06.928869Z",
     "start_time": "2024-08-02T17:23:06.923371Z"
    }
   },
   "cell_type": "code",
   "source": "result",
   "id": "4a2f12ed5c0ad914",
   "outputs": [
    {
     "data": {
      "text/plain": [
       "FineTuningJob(id='ftjob-q3o9maNpVh87qQzLIAGf7vcO', created_at=1722619357, error=Error(code=None, message=None, param=None), fine_tuned_model=None, finished_at=None, hyperparameters=Hyperparameters(n_epochs=1, batch_size='auto', learning_rate_multiplier='auto'), model='gpt-3.5-turbo-0125', object='fine_tuning.job', organization_id='org-skBw4GYASyPZtlACUZX6o2Nb', result_files=[], seed=1693561264, status='validating_files', trained_tokens=None, training_file='file-VEryUbLeXSOKDjKtivZjND80', validation_file='file-C1C4JPvdGySa5nCtoJSDukic', estimated_finish=None, integrations=[], user_provided_suffix=None)"
      ]
     },
     "execution_count": 12,
     "metadata": {},
     "output_type": "execute_result"
    }
   ],
   "execution_count": 12
  },
  {
   "metadata": {
    "ExecuteTime": {
     "end_time": "2024-08-02T17:58:15.591620Z",
     "start_time": "2024-08-02T17:58:14.903074Z"
    }
   },
   "cell_type": "code",
   "source": "client.fine_tuning.jobs.list()",
   "id": "cf38f7d084a860f7",
   "outputs": [
    {
     "data": {
      "text/plain": [
       "SyncCursorPage[FineTuningJob](data=[FineTuningJob(id='ftjob-q3o9maNpVh87qQzLIAGf7vcO', created_at=1722619357, error=Error(code=None, message=None, param=None), fine_tuned_model='ft:gpt-3.5-turbo-0125:personal::9rqcNd5w', finished_at=1722620673, hyperparameters=Hyperparameters(n_epochs=1, batch_size=1, learning_rate_multiplier=2), model='gpt-3.5-turbo-0125', object='fine_tuning.job', organization_id='org-skBw4GYASyPZtlACUZX6o2Nb', result_files=['file-9ML4EJxt168BSA57TCxAhSUW'], seed=1693561264, status='succeeded', trained_tokens=376193, training_file='file-VEryUbLeXSOKDjKtivZjND80', validation_file='file-C1C4JPvdGySa5nCtoJSDukic', estimated_finish=None, integrations=[], user_provided_suffix=None)], object='list', has_more=False)"
      ]
     },
     "execution_count": 15,
     "metadata": {},
     "output_type": "execute_result"
    }
   ],
   "execution_count": 15
  },
  {
   "metadata": {
    "ExecuteTime": {
     "end_time": "2024-08-02T18:03:30.828365Z",
     "start_time": "2024-08-02T18:03:29.851533Z"
    }
   },
   "cell_type": "code",
   "source": [
    "# Losses visualization\n",
    "train_event = client.fine_tuning.jobs.list_events(fine_tuning_job_id='ftjob-q3o9maNpVh87qQzLIAGf7vcO')"
   ],
   "id": "edbcd28d024498db",
   "outputs": [],
   "execution_count": 17
  },
  {
   "metadata": {
    "ExecuteTime": {
     "end_time": "2024-08-02T18:14:37.460784Z",
     "start_time": "2024-08-02T18:14:37.455288Z"
    }
   },
   "cell_type": "code",
   "source": "data = [event.data for event in train_event.data if len(event.data) > 0]",
   "id": "b14a79d06f1f49f6",
   "outputs": [
    {
     "data": {
      "text/plain": [
       "{'step': 525,\n",
       " 'train_loss': 2.5175418853759766,\n",
       " 'total_steps': 525,\n",
       " 'full_valid_loss': 0.4708685133192274,\n",
       " 'train_mean_token_accuracy': 0.75,\n",
       " 'full_valid_mean_token_accuracy': 0.9333333333333333}"
      ]
     },
     "execution_count": 34,
     "metadata": {},
     "output_type": "execute_result"
    }
   ],
   "execution_count": 34
  },
  {
   "metadata": {
    "ExecuteTime": {
     "end_time": "2024-08-02T18:17:33.929736Z",
     "start_time": "2024-08-02T18:17:33.925011Z"
    }
   },
   "cell_type": "code",
   "source": "[item['train_loss'] for item in data]",
   "id": "d14129e0f3ccbe97",
   "outputs": [
    {
     "data": {
      "text/plain": [
       "[2.5175418853759766,\n",
       " 2.384185791015625e-06,\n",
       " 3.7259647846221924,\n",
       " 4.76837158203125e-07,\n",
       " 1.9073486328125e-06,\n",
       " 2.384185791015625e-07,\n",
       " 1.9073486328125e-06,\n",
       " 3.814697322468419e-07,\n",
       " 2.28881845032447e-06,\n",
       " 4.76837158203125e-07,\n",
       " 6.35782896551973e-07,\n",
       " 2.738797187805176,\n",
       " 3.178914482759865e-07,\n",
       " 7.152557373046875e-06,\n",
       " 0.8430123329162598,\n",
       " 3.814697322468419e-07,\n",
       " 3.178914482759865e-07,\n",
       " 3.859421730041504]"
      ]
     },
     "execution_count": 42,
     "metadata": {},
     "output_type": "execute_result"
    }
   ],
   "execution_count": 42
  },
  {
   "metadata": {},
   "cell_type": "code",
   "outputs": [],
   "execution_count": null,
   "source": "\n",
   "id": "f8fe7d04bf4a577f"
  }
 ],
 "metadata": {
  "kernelspec": {
   "display_name": "Python 3",
   "language": "python",
   "name": "python3"
  },
  "language_info": {
   "codemirror_mode": {
    "name": "ipython",
    "version": 2
   },
   "file_extension": ".py",
   "mimetype": "text/x-python",
   "name": "python",
   "nbconvert_exporter": "python",
   "pygments_lexer": "ipython2",
   "version": "2.7.6"
  }
 },
 "nbformat": 4,
 "nbformat_minor": 5
}

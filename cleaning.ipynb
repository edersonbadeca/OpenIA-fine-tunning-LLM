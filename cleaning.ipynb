{
 "cells": [
  {
   "cell_type": "code",
   "id": "initial_id",
   "metadata": {
    "collapsed": true,
    "ExecuteTime": {
     "end_time": "2024-08-02T18:27:26.019750Z",
     "start_time": "2024-08-02T18:27:26.017044Z"
    }
   },
   "source": "import pandas as pd",
   "outputs": [],
   "execution_count": 38
  },
  {
   "metadata": {
    "ExecuteTime": {
     "end_time": "2024-08-02T18:27:26.200173Z",
     "start_time": "2024-08-02T18:27:26.114713Z"
    }
   },
   "cell_type": "code",
   "source": "medical_reports = pd.read_csv('reports_copy.csv')",
   "id": "b12590658e5f9176",
   "outputs": [],
   "execution_count": 39
  },
  {
   "metadata": {
    "ExecuteTime": {
     "end_time": "2024-08-02T18:27:26.209937Z",
     "start_time": "2024-08-02T18:27:26.202986Z"
    }
   },
   "cell_type": "code",
   "source": "medical_reports.head()",
   "id": "c2347e150c81dfcc",
   "outputs": [
    {
     "data": {
      "text/plain": [
       "            medical_specialty  \\\n",
       "0  Cardiovascular / Pulmonary   \n",
       "1  Cardiovascular / Pulmonary   \n",
       "2  Cardiovascular / Pulmonary   \n",
       "3  Cardiovascular / Pulmonary   \n",
       "4  Cardiovascular / Pulmonary   \n",
       "\n",
       "                                              report  \n",
       "0  2-D M-MODE: , ,1.  Left atrial enlargement wit...  \n",
       "1  1.  The left ventricular cavity size and wall ...  \n",
       "2  2-D ECHOCARDIOGRAM,Multiple views of the heart...  \n",
       "3  DESCRIPTION:,1.  Normal cardiac chambers size....  \n",
       "4  2-D STUDY,1. Mild aortic stenosis, widely calc...  "
      ],
      "text/html": [
       "<div>\n",
       "<style scoped>\n",
       "    .dataframe tbody tr th:only-of-type {\n",
       "        vertical-align: middle;\n",
       "    }\n",
       "\n",
       "    .dataframe tbody tr th {\n",
       "        vertical-align: top;\n",
       "    }\n",
       "\n",
       "    .dataframe thead th {\n",
       "        text-align: right;\n",
       "    }\n",
       "</style>\n",
       "<table border=\"1\" class=\"dataframe\">\n",
       "  <thead>\n",
       "    <tr style=\"text-align: right;\">\n",
       "      <th></th>\n",
       "      <th>medical_specialty</th>\n",
       "      <th>report</th>\n",
       "    </tr>\n",
       "  </thead>\n",
       "  <tbody>\n",
       "    <tr>\n",
       "      <th>0</th>\n",
       "      <td>Cardiovascular / Pulmonary</td>\n",
       "      <td>2-D M-MODE: , ,1.  Left atrial enlargement wit...</td>\n",
       "    </tr>\n",
       "    <tr>\n",
       "      <th>1</th>\n",
       "      <td>Cardiovascular / Pulmonary</td>\n",
       "      <td>1.  The left ventricular cavity size and wall ...</td>\n",
       "    </tr>\n",
       "    <tr>\n",
       "      <th>2</th>\n",
       "      <td>Cardiovascular / Pulmonary</td>\n",
       "      <td>2-D ECHOCARDIOGRAM,Multiple views of the heart...</td>\n",
       "    </tr>\n",
       "    <tr>\n",
       "      <th>3</th>\n",
       "      <td>Cardiovascular / Pulmonary</td>\n",
       "      <td>DESCRIPTION:,1.  Normal cardiac chambers size....</td>\n",
       "    </tr>\n",
       "    <tr>\n",
       "      <th>4</th>\n",
       "      <td>Cardiovascular / Pulmonary</td>\n",
       "      <td>2-D STUDY,1. Mild aortic stenosis, widely calc...</td>\n",
       "    </tr>\n",
       "  </tbody>\n",
       "</table>\n",
       "</div>"
      ]
     },
     "execution_count": 40,
     "metadata": {},
     "output_type": "execute_result"
    }
   ],
   "execution_count": 40
  },
  {
   "metadata": {
    "ExecuteTime": {
     "end_time": "2024-08-02T18:27:26.223087Z",
     "start_time": "2024-08-02T18:27:26.211864Z"
    }
   },
   "cell_type": "code",
   "source": "medical_reports.info()",
   "id": "46d1d16a3dffb07f",
   "outputs": [
    {
     "name": "stdout",
     "output_type": "stream",
     "text": [
      "<class 'pandas.core.frame.DataFrame'>\n",
      "RangeIndex: 2179 entries, 0 to 2178\n",
      "Data columns (total 2 columns):\n",
      " #   Column             Non-Null Count  Dtype \n",
      "---  ------             --------------  ----- \n",
      " 0   medical_specialty  2179 non-null   object\n",
      " 1   report             2179 non-null   object\n",
      "dtypes: object(2)\n",
      "memory usage: 34.2+ KB\n"
     ]
    }
   ],
   "execution_count": 41
  },
  {
   "metadata": {
    "ExecuteTime": {
     "end_time": "2024-08-02T18:27:26.235862Z",
     "start_time": "2024-08-02T18:27:26.225644Z"
    }
   },
   "cell_type": "code",
   "source": [
    "medical_reports.dropna(subset=['report'])\n",
    "medical_reports.info()\n"
   ],
   "id": "fb017dd45304c858",
   "outputs": [
    {
     "name": "stdout",
     "output_type": "stream",
     "text": [
      "<class 'pandas.core.frame.DataFrame'>\n",
      "RangeIndex: 2179 entries, 0 to 2178\n",
      "Data columns (total 2 columns):\n",
      " #   Column             Non-Null Count  Dtype \n",
      "---  ------             --------------  ----- \n",
      " 0   medical_specialty  2179 non-null   object\n",
      " 1   report             2179 non-null   object\n",
      "dtypes: object(2)\n",
      "memory usage: 34.2+ KB\n"
     ]
    }
   ],
   "execution_count": 42
  },
  {
   "metadata": {
    "ExecuteTime": {
     "end_time": "2024-08-02T18:27:26.240788Z",
     "start_time": "2024-08-02T18:27:26.237891Z"
    }
   },
   "cell_type": "code",
   "source": "# Trainning validation ",
   "id": "1b4cb5aa1b24dfca",
   "outputs": [],
   "execution_count": 43
  },
  {
   "metadata": {
    "ExecuteTime": {
     "end_time": "2024-08-02T18:27:26.255474Z",
     "start_time": "2024-08-02T18:27:26.243308Z"
    }
   },
   "cell_type": "code",
   "source": "medical_reports.groupby('medical_specialty').count()",
   "id": "896ac59b9bc733d",
   "outputs": [
    {
     "data": {
      "text/plain": [
       "                            report\n",
       "medical_specialty                 \n",
       "Cardiovascular / Pulmonary     371\n",
       "Gastroenterology               224\n",
       "Neurology                      223\n",
       "Radiology                      273\n",
       "Surgery                       1088"
      ],
      "text/html": [
       "<div>\n",
       "<style scoped>\n",
       "    .dataframe tbody tr th:only-of-type {\n",
       "        vertical-align: middle;\n",
       "    }\n",
       "\n",
       "    .dataframe tbody tr th {\n",
       "        vertical-align: top;\n",
       "    }\n",
       "\n",
       "    .dataframe thead th {\n",
       "        text-align: right;\n",
       "    }\n",
       "</style>\n",
       "<table border=\"1\" class=\"dataframe\">\n",
       "  <thead>\n",
       "    <tr style=\"text-align: right;\">\n",
       "      <th></th>\n",
       "      <th>report</th>\n",
       "    </tr>\n",
       "    <tr>\n",
       "      <th>medical_specialty</th>\n",
       "      <th></th>\n",
       "    </tr>\n",
       "  </thead>\n",
       "  <tbody>\n",
       "    <tr>\n",
       "      <th>Cardiovascular / Pulmonary</th>\n",
       "      <td>371</td>\n",
       "    </tr>\n",
       "    <tr>\n",
       "      <th>Gastroenterology</th>\n",
       "      <td>224</td>\n",
       "    </tr>\n",
       "    <tr>\n",
       "      <th>Neurology</th>\n",
       "      <td>223</td>\n",
       "    </tr>\n",
       "    <tr>\n",
       "      <th>Radiology</th>\n",
       "      <td>273</td>\n",
       "    </tr>\n",
       "    <tr>\n",
       "      <th>Surgery</th>\n",
       "      <td>1088</td>\n",
       "    </tr>\n",
       "  </tbody>\n",
       "</table>\n",
       "</div>"
      ]
     },
     "execution_count": 44,
     "metadata": {},
     "output_type": "execute_result"
    }
   ],
   "execution_count": 44
  },
  {
   "metadata": {
    "ExecuteTime": {
     "end_time": "2024-08-02T18:27:26.303406Z",
     "start_time": "2024-08-02T18:27:26.292258Z"
    }
   },
   "cell_type": "code",
   "source": [
    "grouped = medical_reports.groupby('medical_specialty').sample(110, random_state=42)\n",
    "grouped['medical_specialty'].value_counts()"
   ],
   "id": "359a222f75acb681",
   "outputs": [
    {
     "data": {
      "text/plain": [
       "medical_specialty\n",
       "Cardiovascular / Pulmonary    110\n",
       "Gastroenterology              110\n",
       "Neurology                     110\n",
       "Radiology                     110\n",
       "Surgery                       110\n",
       "Name: count, dtype: int64"
      ]
     },
     "execution_count": 45,
     "metadata": {},
     "output_type": "execute_result"
    }
   ],
   "execution_count": 45
  },
  {
   "metadata": {},
   "cell_type": "markdown",
   "source": "# From 110 samples of each medical specialty, we will get 5 for validation and 5 for testing",
   "id": "f1723f559c955799"
  },
  {
   "metadata": {
    "ExecuteTime": {
     "end_time": "2024-08-02T18:27:26.386036Z",
     "start_time": "2024-08-02T18:27:26.380603Z"
    }
   },
   "cell_type": "code",
   "source": "validation = grouped.groupby('medical_specialty').sample(10, random_state=42)",
   "id": "31af145913e79e2f",
   "outputs": [],
   "execution_count": 46
  },
  {
   "metadata": {
    "ExecuteTime": {
     "end_time": "2024-08-02T18:27:26.502871Z",
     "start_time": "2024-08-02T18:27:26.497833Z"
    }
   },
   "cell_type": "code",
   "source": [
    "val = validation.groupby('medical_specialty').head(5)\n",
    "test = validation.groupby('medical_specialty').tail(5)"
   ],
   "id": "7d3448c8fe307301",
   "outputs": [],
   "execution_count": 47
  },
  {
   "metadata": {
    "ExecuteTime": {
     "end_time": "2024-08-02T18:27:26.598589Z",
     "start_time": "2024-08-02T18:27:26.594159Z"
    }
   },
   "cell_type": "code",
   "source": [
    "train = grouped[~grouped.index.isin(val.index)]\n",
    "len(train)"
   ],
   "id": "e102ad688071b1b2",
   "outputs": [
    {
     "data": {
      "text/plain": [
       "525"
      ]
     },
     "execution_count": 48,
     "metadata": {},
     "output_type": "execute_result"
    }
   ],
   "execution_count": 48
  },
  {
   "metadata": {
    "ExecuteTime": {
     "end_time": "2024-08-02T18:27:26.673434Z",
     "start_time": "2024-08-02T18:27:26.670733Z"
    }
   },
   "cell_type": "code",
   "source": "import tiktoken",
   "id": "e9fc3e8cb7d37ad9",
   "outputs": [],
   "execution_count": 49
  },
  {
   "metadata": {
    "ExecuteTime": {
     "end_time": "2024-08-02T18:27:26.706544Z",
     "start_time": "2024-08-02T18:27:26.703554Z"
    }
   },
   "cell_type": "code",
   "source": [
    "def number_of_tokens_from_string(string):\n",
    "    encoding = tiktoken.get_encoding('cl100k_base')\n",
    "    tokens = len(encoding.encode(string))\n",
    "    return tokens"
   ],
   "id": "4b89b009409e4c59",
   "outputs": [],
   "execution_count": 50
  },
  {
   "metadata": {
    "ExecuteTime": {
     "end_time": "2024-08-02T18:27:26.750108Z",
     "start_time": "2024-08-02T18:27:26.745265Z"
    }
   },
   "cell_type": "code",
   "source": "number_of_tokens_from_string('hello world how are you')",
   "id": "ce2d26ad3bdb95f9",
   "outputs": [
    {
     "data": {
      "text/plain": [
       "5"
      ]
     },
     "execution_count": 51,
     "metadata": {},
     "output_type": "execute_result"
    }
   ],
   "execution_count": 51
  },
  {
   "metadata": {
    "ExecuteTime": {
     "end_time": "2024-08-02T18:27:27.308865Z",
     "start_time": "2024-08-02T18:27:26.766951Z"
    }
   },
   "cell_type": "code",
   "source": [
    "reports_lenghts = train['report'].apply(number_of_tokens_from_string)\n",
    "reports_lenghts.describe()"
   ],
   "id": "bd21da45dc3c9267",
   "outputs": [
    {
     "data": {
      "text/plain": [
       "count     525.000000\n",
       "mean      672.158095\n",
       "std       428.376649\n",
       "min        14.000000\n",
       "25%       355.000000\n",
       "50%       581.000000\n",
       "75%       900.000000\n",
       "max      3701.000000\n",
       "Name: report, dtype: float64"
      ]
     },
     "execution_count": 52,
     "metadata": {},
     "output_type": "execute_result"
    }
   ],
   "execution_count": 52
  },
  {
   "metadata": {},
   "cell_type": "markdown",
   "source": "# Data formating",
   "id": "726c22fee9363755"
  },
  {
   "metadata": {
    "ExecuteTime": {
     "end_time": "2024-08-02T18:27:27.319670Z",
     "start_time": "2024-08-02T18:27:27.313461Z"
    }
   },
   "cell_type": "code",
   "source": "train['medical_specialty'].unique()",
   "id": "7280bc24d8139970",
   "outputs": [
    {
     "data": {
      "text/plain": [
       "array(['Cardiovascular / Pulmonary', 'Gastroenterology', 'Neurology',\n",
       "       'Radiology', 'Surgery'], dtype=object)"
      ]
     },
     "execution_count": 53,
     "metadata": {},
     "output_type": "execute_result"
    }
   ],
   "execution_count": 53
  },
  {
   "metadata": {
    "ExecuteTime": {
     "end_time": "2024-08-02T18:27:27.325741Z",
     "start_time": "2024-08-02T18:27:27.321719Z"
    }
   },
   "cell_type": "code",
   "source": [
    "# System Prompt\n",
    "# USER -> report\n",
    "# AI -> medical_specialty\n",
    "system_prompt = 'Given the medical description report classify it into categories: Cardiovascular / Pulmonary, Gastroenterology, Neurology,Radiology, Surgery'\n",
    "print(system_prompt)"
   ],
   "id": "f0826e45f8070a49",
   "outputs": [
    {
     "name": "stdout",
     "output_type": "stream",
     "text": [
      "Given the medical description report classify it into categories: Cardiovascular / Pulmonary, Gastroenterology, Neurology,Radiology, Surgery\n"
     ]
    }
   ],
   "execution_count": 54
  },
  {
   "metadata": {
    "ExecuteTime": {
     "end_time": "2024-08-02T18:27:27.335025Z",
     "start_time": "2024-08-02T18:27:27.330231Z"
    }
   },
   "cell_type": "code",
   "source": [
    "sample_prompt = {\"messages\": [\n",
    "    {\"role\": \"system\", \"content\": system_prompt},\n",
    "    {\"role\": \"user\", \"content\": train['report'].iloc[0]},\n",
    "    {\"role\": \"assistant\", \"content\": train['medical_specialty'].iloc[0]}\n",
    "]}\n",
    "print(sample_prompt)"
   ],
   "id": "7db244c79fe3c238",
   "outputs": [
    {
     "name": "stdout",
     "output_type": "stream",
     "text": [
      "{'messages': [{'role': 'system', 'content': 'Given the medical description report classify it into categories: Cardiovascular / Pulmonary, Gastroenterology, Neurology,Radiology, Surgery'}, {'role': 'user', 'content': \"PREOPERATIVE DIAGNOSES:,1.  Lumbar osteomyelitis.,2.  Need for durable central intravenous access.,POSTOPERATIVE DIAGNOSES:,1.  Lumbar osteomyelitis.,2.  Need for durable central intravenous access.,ANESTHESIA:,  General.,PROCEDURE:,  Placement of left subclavian 4-French Broviac catheter.,INDICATIONS:  ,The patient is a toddler admitted with a limp and back pain, who was eventually found on bone scan and septic workup to have probable osteomyelitis of the lumbar spine at disk areas.  The patient needs prolonged IV antibiotic therapy, but attempt at a PICC line failed.  She has exhausted most of her easy peripheral IV access routes and referral was made to the Pediatric Surgery Service for Broviac placement.  I met with the patient's mom.  With the help of a Spanish interpreter, I explained the technique for Broviac placement.  We discussed the surgical risks and alternatives, most of which have been exhausted.  All their questions have been answered, and the patient is fit for operation today.,DESCRIPTION OF OPERATION:  ,The patient came to the operating room and had an uneventful induction of general anesthesia.  We conducted a surgical time-out to reiterate all of the patient's important identifying information and to confirm that we were here to place the Broviac catheter.  Preparation and draping of her skin was performed with chlorhexidine based prep solution and then an infraclavicular approach to left subclavian vein was performed.  A flexible guidewire was inserted into the central location and then a 4-French Broviac catheter was tunneled through the subcutaneous tissues and exiting on the right anterolateral chest wall well below and lateral to the breast and pectoralis major margins.  The catheter was brought to the subclavian insertion site and trimmed so that the tip would lie at the junction of the superior vena cava and right atrium based on fluoroscopic guidelines.  The peel-away sheath was passed over the guidewire and then the 4-French catheter was deployed through the peel-away sheath.  There was easy blood return and fluoroscopic imaging showed initially the catheter had transited across the mediastinum up the opposite subclavian vein, then it was withdrawn and easily replaced in the superior vena cava.  The catheter insertion site was closed with one buried 5-0 Monocryl stitch and the same 5-0 Monocryl was used to tether the catheter at the exit site until fibrous ingrowth of the attached cuff has occurred.  Heparinized saline solution was used to flush the line.  A sterile occlusive dressing was applied, and the line was prepared for immediate use.  The patient was transported to the recovery room in good condition.  There were no intraoperative complications, and her blood loss was between 5 and 10 mL during the line placement portion of the procedure.\"}, {'role': 'assistant', 'content': 'Cardiovascular / Pulmonary'}]}\n"
     ]
    }
   ],
   "execution_count": 55
  },
  {
   "metadata": {
    "ExecuteTime": {
     "end_time": "2024-08-02T18:27:27.341724Z",
     "start_time": "2024-08-02T18:27:27.336990Z"
    }
   },
   "cell_type": "code",
   "source": [
    "def df_to_format(df):\n",
    "    formatted_data = []\n",
    "    for index,row in df.iterrows():\n",
    "        entry = {\"messages\": [\n",
    "            {\"role\": \"system\", \"content\": system_prompt},\n",
    "            {\"role\": \"user\", \"content\": row['report']},\n",
    "            {\"role\": \"assistant\", \"content\": row['medical_specialty']}\n",
    "        ]}\n",
    "        formatted_data.append(entry)\n",
    "    return formatted_data"
   ],
   "id": "c244a4a95c88af8b",
   "outputs": [],
   "execution_count": 56
  },
  {
   "metadata": {
    "ExecuteTime": {
     "end_time": "2024-08-02T18:27:27.390146Z",
     "start_time": "2024-08-02T18:27:27.343748Z"
    }
   },
   "cell_type": "code",
   "source": [
    "data = df_to_format(train)\n",
    "data[10]"
   ],
   "id": "370a0d381736e57d",
   "outputs": [
    {
     "data": {
      "text/plain": [
       "{'messages': [{'role': 'system',\n",
       "   'content': 'Given the medical description report classify it into categories: Cardiovascular / Pulmonary, Gastroenterology, Neurology,Radiology, Surgery'},\n",
       "  {'role': 'user',\n",
       "   'content': 'CLINICAL HISTORY: , Patient is a 37-year-old female with a history of colectomy for adenoma.  During her preop evaluation it was noted that she had a lesion on her chest x-ray.  CT scan of the chest confirmed a left lower mass.,SPECIMEN: , Lung, left lower lobe resection.,IMMUNOHISTOCHEMICAL STUDIES:,  Tumor cells show no reactivity with cytokeratin AE1/AE3.  No significant reactivity with CAM5.2 and no reactivity with cytokeratin-20 are seen.  Tumor cells show partial reactivity with cytokeratin-7.  PAS with diastase demonstrates no convincing intracytoplasmic mucin.  No neuroendocrine differentiation is demonstrated with synaptophysin and chromogranin stains.  Tumor cells show cytoplasmic and nuclear reactivity with S100 antibody.  No significant reactivity is demonstrated with melanoma marker HMB-45 or Melan-A.  Tumor cell nuclei (spindle cell and pleomorphic/giant cell carcinoma components) show nuclear reactivity with thyroid transcription factor marker (TTF-1).  The immunohistochemical studies are consistent with primary lung sarcomatoid carcinoma with pleomorphic/giant cell carcinoma and spindle cell carcinoma components.,FINAL DIAGNOSIS:,Histologic Tumor Type:  Sarcomatoid carcinoma with areas of pleomorphic/giant cell carcinoma and spindle cell carcinoma.,Tumor Size:  2.7 x 2.0 x 1.4 cm.,Visceral Pleura Involvement:  The tumor closely approaches the pleural surface but does not invade the pleura.,Vascular Invasion:  Present.,Margins:  Bronchial resection margins and vascular margins are free of tumor.,Lymph Nodes:  Metastatic sarcomatoid carcinoma into one of four hilar lymph nodes.,Pathologic Stage:  pT1N1MX.'},\n",
       "  {'role': 'assistant', 'content': 'Cardiovascular / Pulmonary'}]}"
      ]
     },
     "execution_count": 57,
     "metadata": {},
     "output_type": "execute_result"
    }
   ],
   "execution_count": 57
  },
  {
   "metadata": {
    "ExecuteTime": {
     "end_time": "2024-08-02T18:27:27.416158Z",
     "start_time": "2024-08-02T18:27:27.391885Z"
    }
   },
   "cell_type": "code",
   "source": [
    "import json\n",
    "with open('fine_tuning_data.jsonl', 'w') as f:\n",
    "    for entry in data:\n",
    "        f.write(json.dumps(entry))\n",
    "        f.write('\\n')"
   ],
   "id": "221dad45b241ea65",
   "outputs": [],
   "execution_count": 58
  },
  {
   "metadata": {
    "ExecuteTime": {
     "end_time": "2024-08-02T18:27:27.423502Z",
     "start_time": "2024-08-02T18:27:27.418327Z"
    }
   },
   "cell_type": "code",
   "source": "val_data = df_to_format(val)",
   "id": "3eb638bbf9ee9c55",
   "outputs": [],
   "execution_count": 59
  },
  {
   "metadata": {
    "ExecuteTime": {
     "end_time": "2024-08-02T18:27:27.434853Z",
     "start_time": "2024-08-02T18:27:27.425782Z"
    }
   },
   "cell_type": "code",
   "source": [
    "with open('validation_data.jsonl', 'w') as f:\n",
    "    for entry in val_data:\n",
    "        f.write(json.dumps(entry))\n",
    "        f.write('\\n')"
   ],
   "id": "66db2dc9518d9d44",
   "outputs": [],
   "execution_count": 60
  },
  {
   "metadata": {
    "ExecuteTime": {
     "end_time": "2024-08-02T18:41:38.288076Z",
     "start_time": "2024-08-02T18:41:38.267358Z"
    }
   },
   "cell_type": "code",
   "source": [
    "user_prompt = grouped['report'].iloc[1]\n",
    "user_prompt"
   ],
   "id": "dbba1df7e8ccf517",
   "outputs": [
    {
     "ename": "NameError",
     "evalue": "name 'report' is not defined",
     "output_type": "error",
     "traceback": [
      "\u001B[0;31m---------------------------------------------------------------------------\u001B[0m",
      "\u001B[0;31mNameError\u001B[0m                                 Traceback (most recent call last)",
      "Cell \u001B[0;32mIn[85], line 1\u001B[0m\n\u001B[0;32m----> 1\u001B[0m \u001B[43mreport\u001B[49m\n",
      "\u001B[0;31mNameError\u001B[0m: name 'report' is not defined"
     ]
    }
   ],
   "execution_count": 85
  },
  {
   "metadata": {
    "ExecuteTime": {
     "end_time": "2024-08-02T18:46:55.460817Z",
     "start_time": "2024-08-02T18:46:43.440666Z"
    }
   },
   "cell_type": "code",
   "source": [
    "# Testing the model\n",
    "from openai import OpenAI\n",
    "import os\n",
    "client = OpenAI()\n",
    "\n",
    "chat_completion = client.chat.completions.create(\n",
    "    model=\"ft:gpt-3.5-turbo-0125:personal::9rqcNd5w\", # use custom foundation model\n",
    "    messages=[\n",
    "        {\"role\": \"system\", \"content\": system_prompt},\n",
    "        {\"role\": \"user\", \"content\": user_prompt}\n",
    "    ]\n",
    ")\n",
    "chat_completion.choices[0].message.content.strip()"
   ],
   "id": "e49548670e2617f5",
   "outputs": [
    {
     "data": {
      "text/plain": [
       "'Surgery'"
      ]
     },
     "execution_count": 87,
     "metadata": {},
     "output_type": "execute_result"
    }
   ],
   "execution_count": 87
  },
  {
   "metadata": {
    "ExecuteTime": {
     "end_time": "2024-08-02T18:42:40.577458Z",
     "start_time": "2024-08-02T18:42:40.573895Z"
    }
   },
   "cell_type": "code",
   "source": [
    "# Compare the result with the actual medical specialty\n",
    "\n",
    "def classify_report(report, model):\n",
    "    chat_completion = client.chat.completions.create(\n",
    "        model=model, # use custom foundation model\n",
    "        messages=[\n",
    "            {\"role\": \"system\", \"content\": system_prompt},\n",
    "            {\"role\": \"user\", \"content\": report}\n",
    "        ]\n",
    "    )\n",
    "    return chat_completion"
   ],
   "id": "d61725e76416acf9",
   "outputs": [],
   "execution_count": 86
  },
  {
   "metadata": {
    "ExecuteTime": {
     "end_time": "2024-08-02T18:52:40.701872Z",
     "start_time": "2024-08-02T18:47:30.210600Z"
    }
   },
   "cell_type": "code",
   "source": [
    "predicted_classes = []\n",
    "ground_truth_classes = []\n",
    "for line in grouped.iterrows():\n",
    "    report, specialty = line[1]['report'], line[1]['medical_specialty']\n",
    "    ground_truth_classes.append(specialty.strip())\n",
    "    prediction = classify_report(report, \"gpt-3.5-turbo\")\n",
    "    predicted_classes.append(prediction.choices[0].message.content.strip())"
   ],
   "id": "1e8e0c6c989ff20a",
   "outputs": [
    {
     "ename": "KeyboardInterrupt",
     "evalue": "",
     "output_type": "error",
     "traceback": [
      "\u001B[0;31m---------------------------------------------------------------------------\u001B[0m",
      "\u001B[0;31mKeyboardInterrupt\u001B[0m                         Traceback (most recent call last)",
      "Cell \u001B[0;32mIn[88], line 6\u001B[0m\n\u001B[1;32m      4\u001B[0m report, specialty \u001B[38;5;241m=\u001B[39m line[\u001B[38;5;241m1\u001B[39m][\u001B[38;5;124m'\u001B[39m\u001B[38;5;124mreport\u001B[39m\u001B[38;5;124m'\u001B[39m], line[\u001B[38;5;241m1\u001B[39m][\u001B[38;5;124m'\u001B[39m\u001B[38;5;124mmedical_specialty\u001B[39m\u001B[38;5;124m'\u001B[39m]\n\u001B[1;32m      5\u001B[0m ground_truth_classes\u001B[38;5;241m.\u001B[39mappend(specialty\u001B[38;5;241m.\u001B[39mstrip())\n\u001B[0;32m----> 6\u001B[0m prediction \u001B[38;5;241m=\u001B[39m \u001B[43mclassify_report\u001B[49m\u001B[43m(\u001B[49m\u001B[43mreport\u001B[49m\u001B[43m,\u001B[49m\u001B[43m \u001B[49m\u001B[38;5;124;43m\"\u001B[39;49m\u001B[38;5;124;43mgpt-3.5-turbo\u001B[39;49m\u001B[38;5;124;43m\"\u001B[39;49m\u001B[43m)\u001B[49m\n\u001B[1;32m      7\u001B[0m predicted_classes\u001B[38;5;241m.\u001B[39mappend(prediction\u001B[38;5;241m.\u001B[39mchoices[\u001B[38;5;241m0\u001B[39m]\u001B[38;5;241m.\u001B[39mmessage\u001B[38;5;241m.\u001B[39mcontent\u001B[38;5;241m.\u001B[39mstrip())\n",
      "Cell \u001B[0;32mIn[86], line 4\u001B[0m, in \u001B[0;36mclassify_report\u001B[0;34m(report, model)\u001B[0m\n\u001B[1;32m      3\u001B[0m \u001B[38;5;28;01mdef\u001B[39;00m \u001B[38;5;21mclassify_report\u001B[39m(report, model):\n\u001B[0;32m----> 4\u001B[0m     chat_completion \u001B[38;5;241m=\u001B[39m \u001B[43mclient\u001B[49m\u001B[38;5;241;43m.\u001B[39;49m\u001B[43mchat\u001B[49m\u001B[38;5;241;43m.\u001B[39;49m\u001B[43mcompletions\u001B[49m\u001B[38;5;241;43m.\u001B[39;49m\u001B[43mcreate\u001B[49m\u001B[43m(\u001B[49m\n\u001B[1;32m      5\u001B[0m \u001B[43m        \u001B[49m\u001B[43mmodel\u001B[49m\u001B[38;5;241;43m=\u001B[39;49m\u001B[43mmodel\u001B[49m\u001B[43m,\u001B[49m\u001B[43m \u001B[49m\u001B[38;5;66;43;03m# use custom foundation model\u001B[39;49;00m\n\u001B[1;32m      6\u001B[0m \u001B[43m        \u001B[49m\u001B[43mmessages\u001B[49m\u001B[38;5;241;43m=\u001B[39;49m\u001B[43m[\u001B[49m\n\u001B[1;32m      7\u001B[0m \u001B[43m            \u001B[49m\u001B[43m{\u001B[49m\u001B[38;5;124;43m\"\u001B[39;49m\u001B[38;5;124;43mrole\u001B[39;49m\u001B[38;5;124;43m\"\u001B[39;49m\u001B[43m:\u001B[49m\u001B[43m \u001B[49m\u001B[38;5;124;43m\"\u001B[39;49m\u001B[38;5;124;43msystem\u001B[39;49m\u001B[38;5;124;43m\"\u001B[39;49m\u001B[43m,\u001B[49m\u001B[43m \u001B[49m\u001B[38;5;124;43m\"\u001B[39;49m\u001B[38;5;124;43mcontent\u001B[39;49m\u001B[38;5;124;43m\"\u001B[39;49m\u001B[43m:\u001B[49m\u001B[43m \u001B[49m\u001B[43msystem_prompt\u001B[49m\u001B[43m}\u001B[49m\u001B[43m,\u001B[49m\n\u001B[1;32m      8\u001B[0m \u001B[43m            \u001B[49m\u001B[43m{\u001B[49m\u001B[38;5;124;43m\"\u001B[39;49m\u001B[38;5;124;43mrole\u001B[39;49m\u001B[38;5;124;43m\"\u001B[39;49m\u001B[43m:\u001B[49m\u001B[43m \u001B[49m\u001B[38;5;124;43m\"\u001B[39;49m\u001B[38;5;124;43muser\u001B[39;49m\u001B[38;5;124;43m\"\u001B[39;49m\u001B[43m,\u001B[49m\u001B[43m \u001B[49m\u001B[38;5;124;43m\"\u001B[39;49m\u001B[38;5;124;43mcontent\u001B[39;49m\u001B[38;5;124;43m\"\u001B[39;49m\u001B[43m:\u001B[49m\u001B[43m \u001B[49m\u001B[43mreport\u001B[49m\u001B[43m}\u001B[49m\n\u001B[1;32m      9\u001B[0m \u001B[43m        \u001B[49m\u001B[43m]\u001B[49m\n\u001B[1;32m     10\u001B[0m \u001B[43m    \u001B[49m\u001B[43m)\u001B[49m\n\u001B[1;32m     11\u001B[0m     \u001B[38;5;28;01mreturn\u001B[39;00m chat_completion\n",
      "File \u001B[0;32m~/projects/studies/udemy/LLM-Fine-Tuning-on-OpenAI/.venv/lib/python3.11/site-packages/openai/_utils/_utils.py:277\u001B[0m, in \u001B[0;36mrequired_args.<locals>.inner.<locals>.wrapper\u001B[0;34m(*args, **kwargs)\u001B[0m\n\u001B[1;32m    275\u001B[0m             msg \u001B[38;5;241m=\u001B[39m \u001B[38;5;124mf\u001B[39m\u001B[38;5;124m\"\u001B[39m\u001B[38;5;124mMissing required argument: \u001B[39m\u001B[38;5;132;01m{\u001B[39;00mquote(missing[\u001B[38;5;241m0\u001B[39m])\u001B[38;5;132;01m}\u001B[39;00m\u001B[38;5;124m\"\u001B[39m\n\u001B[1;32m    276\u001B[0m     \u001B[38;5;28;01mraise\u001B[39;00m \u001B[38;5;167;01mTypeError\u001B[39;00m(msg)\n\u001B[0;32m--> 277\u001B[0m \u001B[38;5;28;01mreturn\u001B[39;00m \u001B[43mfunc\u001B[49m\u001B[43m(\u001B[49m\u001B[38;5;241;43m*\u001B[39;49m\u001B[43margs\u001B[49m\u001B[43m,\u001B[49m\u001B[43m \u001B[49m\u001B[38;5;241;43m*\u001B[39;49m\u001B[38;5;241;43m*\u001B[39;49m\u001B[43mkwargs\u001B[49m\u001B[43m)\u001B[49m\n",
      "File \u001B[0;32m~/projects/studies/udemy/LLM-Fine-Tuning-on-OpenAI/.venv/lib/python3.11/site-packages/openai/resources/chat/completions.py:646\u001B[0m, in \u001B[0;36mCompletions.create\u001B[0;34m(self, messages, model, frequency_penalty, function_call, functions, logit_bias, logprobs, max_tokens, n, parallel_tool_calls, presence_penalty, response_format, seed, service_tier, stop, stream, stream_options, temperature, tool_choice, tools, top_logprobs, top_p, user, extra_headers, extra_query, extra_body, timeout)\u001B[0m\n\u001B[1;32m    612\u001B[0m \u001B[38;5;129m@required_args\u001B[39m([\u001B[38;5;124m\"\u001B[39m\u001B[38;5;124mmessages\u001B[39m\u001B[38;5;124m\"\u001B[39m, \u001B[38;5;124m\"\u001B[39m\u001B[38;5;124mmodel\u001B[39m\u001B[38;5;124m\"\u001B[39m], [\u001B[38;5;124m\"\u001B[39m\u001B[38;5;124mmessages\u001B[39m\u001B[38;5;124m\"\u001B[39m, \u001B[38;5;124m\"\u001B[39m\u001B[38;5;124mmodel\u001B[39m\u001B[38;5;124m\"\u001B[39m, \u001B[38;5;124m\"\u001B[39m\u001B[38;5;124mstream\u001B[39m\u001B[38;5;124m\"\u001B[39m])\n\u001B[1;32m    613\u001B[0m \u001B[38;5;28;01mdef\u001B[39;00m \u001B[38;5;21mcreate\u001B[39m(\n\u001B[1;32m    614\u001B[0m     \u001B[38;5;28mself\u001B[39m,\n\u001B[0;32m   (...)\u001B[0m\n\u001B[1;32m    644\u001B[0m     timeout: \u001B[38;5;28mfloat\u001B[39m \u001B[38;5;241m|\u001B[39m httpx\u001B[38;5;241m.\u001B[39mTimeout \u001B[38;5;241m|\u001B[39m \u001B[38;5;28;01mNone\u001B[39;00m \u001B[38;5;241m|\u001B[39m NotGiven \u001B[38;5;241m=\u001B[39m NOT_GIVEN,\n\u001B[1;32m    645\u001B[0m ) \u001B[38;5;241m-\u001B[39m\u001B[38;5;241m>\u001B[39m ChatCompletion \u001B[38;5;241m|\u001B[39m Stream[ChatCompletionChunk]:\n\u001B[0;32m--> 646\u001B[0m     \u001B[38;5;28;01mreturn\u001B[39;00m \u001B[38;5;28;43mself\u001B[39;49m\u001B[38;5;241;43m.\u001B[39;49m\u001B[43m_post\u001B[49m\u001B[43m(\u001B[49m\n\u001B[1;32m    647\u001B[0m \u001B[43m        \u001B[49m\u001B[38;5;124;43m\"\u001B[39;49m\u001B[38;5;124;43m/chat/completions\u001B[39;49m\u001B[38;5;124;43m\"\u001B[39;49m\u001B[43m,\u001B[49m\n\u001B[1;32m    648\u001B[0m \u001B[43m        \u001B[49m\u001B[43mbody\u001B[49m\u001B[38;5;241;43m=\u001B[39;49m\u001B[43mmaybe_transform\u001B[49m\u001B[43m(\u001B[49m\n\u001B[1;32m    649\u001B[0m \u001B[43m            \u001B[49m\u001B[43m{\u001B[49m\n\u001B[1;32m    650\u001B[0m \u001B[43m                \u001B[49m\u001B[38;5;124;43m\"\u001B[39;49m\u001B[38;5;124;43mmessages\u001B[39;49m\u001B[38;5;124;43m\"\u001B[39;49m\u001B[43m:\u001B[49m\u001B[43m \u001B[49m\u001B[43mmessages\u001B[49m\u001B[43m,\u001B[49m\n\u001B[1;32m    651\u001B[0m \u001B[43m                \u001B[49m\u001B[38;5;124;43m\"\u001B[39;49m\u001B[38;5;124;43mmodel\u001B[39;49m\u001B[38;5;124;43m\"\u001B[39;49m\u001B[43m:\u001B[49m\u001B[43m \u001B[49m\u001B[43mmodel\u001B[49m\u001B[43m,\u001B[49m\n\u001B[1;32m    652\u001B[0m \u001B[43m                \u001B[49m\u001B[38;5;124;43m\"\u001B[39;49m\u001B[38;5;124;43mfrequency_penalty\u001B[39;49m\u001B[38;5;124;43m\"\u001B[39;49m\u001B[43m:\u001B[49m\u001B[43m \u001B[49m\u001B[43mfrequency_penalty\u001B[49m\u001B[43m,\u001B[49m\n\u001B[1;32m    653\u001B[0m \u001B[43m                \u001B[49m\u001B[38;5;124;43m\"\u001B[39;49m\u001B[38;5;124;43mfunction_call\u001B[39;49m\u001B[38;5;124;43m\"\u001B[39;49m\u001B[43m:\u001B[49m\u001B[43m \u001B[49m\u001B[43mfunction_call\u001B[49m\u001B[43m,\u001B[49m\n\u001B[1;32m    654\u001B[0m \u001B[43m                \u001B[49m\u001B[38;5;124;43m\"\u001B[39;49m\u001B[38;5;124;43mfunctions\u001B[39;49m\u001B[38;5;124;43m\"\u001B[39;49m\u001B[43m:\u001B[49m\u001B[43m \u001B[49m\u001B[43mfunctions\u001B[49m\u001B[43m,\u001B[49m\n\u001B[1;32m    655\u001B[0m \u001B[43m                \u001B[49m\u001B[38;5;124;43m\"\u001B[39;49m\u001B[38;5;124;43mlogit_bias\u001B[39;49m\u001B[38;5;124;43m\"\u001B[39;49m\u001B[43m:\u001B[49m\u001B[43m \u001B[49m\u001B[43mlogit_bias\u001B[49m\u001B[43m,\u001B[49m\n\u001B[1;32m    656\u001B[0m \u001B[43m                \u001B[49m\u001B[38;5;124;43m\"\u001B[39;49m\u001B[38;5;124;43mlogprobs\u001B[39;49m\u001B[38;5;124;43m\"\u001B[39;49m\u001B[43m:\u001B[49m\u001B[43m \u001B[49m\u001B[43mlogprobs\u001B[49m\u001B[43m,\u001B[49m\n\u001B[1;32m    657\u001B[0m \u001B[43m                \u001B[49m\u001B[38;5;124;43m\"\u001B[39;49m\u001B[38;5;124;43mmax_tokens\u001B[39;49m\u001B[38;5;124;43m\"\u001B[39;49m\u001B[43m:\u001B[49m\u001B[43m \u001B[49m\u001B[43mmax_tokens\u001B[49m\u001B[43m,\u001B[49m\n\u001B[1;32m    658\u001B[0m \u001B[43m                \u001B[49m\u001B[38;5;124;43m\"\u001B[39;49m\u001B[38;5;124;43mn\u001B[39;49m\u001B[38;5;124;43m\"\u001B[39;49m\u001B[43m:\u001B[49m\u001B[43m \u001B[49m\u001B[43mn\u001B[49m\u001B[43m,\u001B[49m\n\u001B[1;32m    659\u001B[0m \u001B[43m                \u001B[49m\u001B[38;5;124;43m\"\u001B[39;49m\u001B[38;5;124;43mparallel_tool_calls\u001B[39;49m\u001B[38;5;124;43m\"\u001B[39;49m\u001B[43m:\u001B[49m\u001B[43m \u001B[49m\u001B[43mparallel_tool_calls\u001B[49m\u001B[43m,\u001B[49m\n\u001B[1;32m    660\u001B[0m \u001B[43m                \u001B[49m\u001B[38;5;124;43m\"\u001B[39;49m\u001B[38;5;124;43mpresence_penalty\u001B[39;49m\u001B[38;5;124;43m\"\u001B[39;49m\u001B[43m:\u001B[49m\u001B[43m \u001B[49m\u001B[43mpresence_penalty\u001B[49m\u001B[43m,\u001B[49m\n\u001B[1;32m    661\u001B[0m \u001B[43m                \u001B[49m\u001B[38;5;124;43m\"\u001B[39;49m\u001B[38;5;124;43mresponse_format\u001B[39;49m\u001B[38;5;124;43m\"\u001B[39;49m\u001B[43m:\u001B[49m\u001B[43m \u001B[49m\u001B[43mresponse_format\u001B[49m\u001B[43m,\u001B[49m\n\u001B[1;32m    662\u001B[0m \u001B[43m                \u001B[49m\u001B[38;5;124;43m\"\u001B[39;49m\u001B[38;5;124;43mseed\u001B[39;49m\u001B[38;5;124;43m\"\u001B[39;49m\u001B[43m:\u001B[49m\u001B[43m \u001B[49m\u001B[43mseed\u001B[49m\u001B[43m,\u001B[49m\n\u001B[1;32m    663\u001B[0m \u001B[43m                \u001B[49m\u001B[38;5;124;43m\"\u001B[39;49m\u001B[38;5;124;43mservice_tier\u001B[39;49m\u001B[38;5;124;43m\"\u001B[39;49m\u001B[43m:\u001B[49m\u001B[43m \u001B[49m\u001B[43mservice_tier\u001B[49m\u001B[43m,\u001B[49m\n\u001B[1;32m    664\u001B[0m \u001B[43m                \u001B[49m\u001B[38;5;124;43m\"\u001B[39;49m\u001B[38;5;124;43mstop\u001B[39;49m\u001B[38;5;124;43m\"\u001B[39;49m\u001B[43m:\u001B[49m\u001B[43m \u001B[49m\u001B[43mstop\u001B[49m\u001B[43m,\u001B[49m\n\u001B[1;32m    665\u001B[0m \u001B[43m                \u001B[49m\u001B[38;5;124;43m\"\u001B[39;49m\u001B[38;5;124;43mstream\u001B[39;49m\u001B[38;5;124;43m\"\u001B[39;49m\u001B[43m:\u001B[49m\u001B[43m \u001B[49m\u001B[43mstream\u001B[49m\u001B[43m,\u001B[49m\n\u001B[1;32m    666\u001B[0m \u001B[43m                \u001B[49m\u001B[38;5;124;43m\"\u001B[39;49m\u001B[38;5;124;43mstream_options\u001B[39;49m\u001B[38;5;124;43m\"\u001B[39;49m\u001B[43m:\u001B[49m\u001B[43m \u001B[49m\u001B[43mstream_options\u001B[49m\u001B[43m,\u001B[49m\n\u001B[1;32m    667\u001B[0m \u001B[43m                \u001B[49m\u001B[38;5;124;43m\"\u001B[39;49m\u001B[38;5;124;43mtemperature\u001B[39;49m\u001B[38;5;124;43m\"\u001B[39;49m\u001B[43m:\u001B[49m\u001B[43m \u001B[49m\u001B[43mtemperature\u001B[49m\u001B[43m,\u001B[49m\n\u001B[1;32m    668\u001B[0m \u001B[43m                \u001B[49m\u001B[38;5;124;43m\"\u001B[39;49m\u001B[38;5;124;43mtool_choice\u001B[39;49m\u001B[38;5;124;43m\"\u001B[39;49m\u001B[43m:\u001B[49m\u001B[43m \u001B[49m\u001B[43mtool_choice\u001B[49m\u001B[43m,\u001B[49m\n\u001B[1;32m    669\u001B[0m \u001B[43m                \u001B[49m\u001B[38;5;124;43m\"\u001B[39;49m\u001B[38;5;124;43mtools\u001B[39;49m\u001B[38;5;124;43m\"\u001B[39;49m\u001B[43m:\u001B[49m\u001B[43m \u001B[49m\u001B[43mtools\u001B[49m\u001B[43m,\u001B[49m\n\u001B[1;32m    670\u001B[0m \u001B[43m                \u001B[49m\u001B[38;5;124;43m\"\u001B[39;49m\u001B[38;5;124;43mtop_logprobs\u001B[39;49m\u001B[38;5;124;43m\"\u001B[39;49m\u001B[43m:\u001B[49m\u001B[43m \u001B[49m\u001B[43mtop_logprobs\u001B[49m\u001B[43m,\u001B[49m\n\u001B[1;32m    671\u001B[0m \u001B[43m                \u001B[49m\u001B[38;5;124;43m\"\u001B[39;49m\u001B[38;5;124;43mtop_p\u001B[39;49m\u001B[38;5;124;43m\"\u001B[39;49m\u001B[43m:\u001B[49m\u001B[43m \u001B[49m\u001B[43mtop_p\u001B[49m\u001B[43m,\u001B[49m\n\u001B[1;32m    672\u001B[0m \u001B[43m                \u001B[49m\u001B[38;5;124;43m\"\u001B[39;49m\u001B[38;5;124;43muser\u001B[39;49m\u001B[38;5;124;43m\"\u001B[39;49m\u001B[43m:\u001B[49m\u001B[43m \u001B[49m\u001B[43muser\u001B[49m\u001B[43m,\u001B[49m\n\u001B[1;32m    673\u001B[0m \u001B[43m            \u001B[49m\u001B[43m}\u001B[49m\u001B[43m,\u001B[49m\n\u001B[1;32m    674\u001B[0m \u001B[43m            \u001B[49m\u001B[43mcompletion_create_params\u001B[49m\u001B[38;5;241;43m.\u001B[39;49m\u001B[43mCompletionCreateParams\u001B[49m\u001B[43m,\u001B[49m\n\u001B[1;32m    675\u001B[0m \u001B[43m        \u001B[49m\u001B[43m)\u001B[49m\u001B[43m,\u001B[49m\n\u001B[1;32m    676\u001B[0m \u001B[43m        \u001B[49m\u001B[43moptions\u001B[49m\u001B[38;5;241;43m=\u001B[39;49m\u001B[43mmake_request_options\u001B[49m\u001B[43m(\u001B[49m\n\u001B[1;32m    677\u001B[0m \u001B[43m            \u001B[49m\u001B[43mextra_headers\u001B[49m\u001B[38;5;241;43m=\u001B[39;49m\u001B[43mextra_headers\u001B[49m\u001B[43m,\u001B[49m\u001B[43m \u001B[49m\u001B[43mextra_query\u001B[49m\u001B[38;5;241;43m=\u001B[39;49m\u001B[43mextra_query\u001B[49m\u001B[43m,\u001B[49m\u001B[43m \u001B[49m\u001B[43mextra_body\u001B[49m\u001B[38;5;241;43m=\u001B[39;49m\u001B[43mextra_body\u001B[49m\u001B[43m,\u001B[49m\u001B[43m \u001B[49m\u001B[43mtimeout\u001B[49m\u001B[38;5;241;43m=\u001B[39;49m\u001B[43mtimeout\u001B[49m\n\u001B[1;32m    678\u001B[0m \u001B[43m        \u001B[49m\u001B[43m)\u001B[49m\u001B[43m,\u001B[49m\n\u001B[1;32m    679\u001B[0m \u001B[43m        \u001B[49m\u001B[43mcast_to\u001B[49m\u001B[38;5;241;43m=\u001B[39;49m\u001B[43mChatCompletion\u001B[49m\u001B[43m,\u001B[49m\n\u001B[1;32m    680\u001B[0m \u001B[43m        \u001B[49m\u001B[43mstream\u001B[49m\u001B[38;5;241;43m=\u001B[39;49m\u001B[43mstream\u001B[49m\u001B[43m \u001B[49m\u001B[38;5;129;43;01mor\u001B[39;49;00m\u001B[43m \u001B[49m\u001B[38;5;28;43;01mFalse\u001B[39;49;00m\u001B[43m,\u001B[49m\n\u001B[1;32m    681\u001B[0m \u001B[43m        \u001B[49m\u001B[43mstream_cls\u001B[49m\u001B[38;5;241;43m=\u001B[39;49m\u001B[43mStream\u001B[49m\u001B[43m[\u001B[49m\u001B[43mChatCompletionChunk\u001B[49m\u001B[43m]\u001B[49m\u001B[43m,\u001B[49m\n\u001B[1;32m    682\u001B[0m \u001B[43m    \u001B[49m\u001B[43m)\u001B[49m\n",
      "File \u001B[0;32m~/projects/studies/udemy/LLM-Fine-Tuning-on-OpenAI/.venv/lib/python3.11/site-packages/openai/_base_client.py:1266\u001B[0m, in \u001B[0;36mSyncAPIClient.post\u001B[0;34m(self, path, cast_to, body, options, files, stream, stream_cls)\u001B[0m\n\u001B[1;32m   1252\u001B[0m \u001B[38;5;28;01mdef\u001B[39;00m \u001B[38;5;21mpost\u001B[39m(\n\u001B[1;32m   1253\u001B[0m     \u001B[38;5;28mself\u001B[39m,\n\u001B[1;32m   1254\u001B[0m     path: \u001B[38;5;28mstr\u001B[39m,\n\u001B[0;32m   (...)\u001B[0m\n\u001B[1;32m   1261\u001B[0m     stream_cls: \u001B[38;5;28mtype\u001B[39m[_StreamT] \u001B[38;5;241m|\u001B[39m \u001B[38;5;28;01mNone\u001B[39;00m \u001B[38;5;241m=\u001B[39m \u001B[38;5;28;01mNone\u001B[39;00m,\n\u001B[1;32m   1262\u001B[0m ) \u001B[38;5;241m-\u001B[39m\u001B[38;5;241m>\u001B[39m ResponseT \u001B[38;5;241m|\u001B[39m _StreamT:\n\u001B[1;32m   1263\u001B[0m     opts \u001B[38;5;241m=\u001B[39m FinalRequestOptions\u001B[38;5;241m.\u001B[39mconstruct(\n\u001B[1;32m   1264\u001B[0m         method\u001B[38;5;241m=\u001B[39m\u001B[38;5;124m\"\u001B[39m\u001B[38;5;124mpost\u001B[39m\u001B[38;5;124m\"\u001B[39m, url\u001B[38;5;241m=\u001B[39mpath, json_data\u001B[38;5;241m=\u001B[39mbody, files\u001B[38;5;241m=\u001B[39mto_httpx_files(files), \u001B[38;5;241m*\u001B[39m\u001B[38;5;241m*\u001B[39moptions\n\u001B[1;32m   1265\u001B[0m     )\n\u001B[0;32m-> 1266\u001B[0m     \u001B[38;5;28;01mreturn\u001B[39;00m cast(ResponseT, \u001B[38;5;28;43mself\u001B[39;49m\u001B[38;5;241;43m.\u001B[39;49m\u001B[43mrequest\u001B[49m\u001B[43m(\u001B[49m\u001B[43mcast_to\u001B[49m\u001B[43m,\u001B[49m\u001B[43m \u001B[49m\u001B[43mopts\u001B[49m\u001B[43m,\u001B[49m\u001B[43m \u001B[49m\u001B[43mstream\u001B[49m\u001B[38;5;241;43m=\u001B[39;49m\u001B[43mstream\u001B[49m\u001B[43m,\u001B[49m\u001B[43m \u001B[49m\u001B[43mstream_cls\u001B[49m\u001B[38;5;241;43m=\u001B[39;49m\u001B[43mstream_cls\u001B[49m\u001B[43m)\u001B[49m)\n",
      "File \u001B[0;32m~/projects/studies/udemy/LLM-Fine-Tuning-on-OpenAI/.venv/lib/python3.11/site-packages/openai/_base_client.py:942\u001B[0m, in \u001B[0;36mSyncAPIClient.request\u001B[0;34m(self, cast_to, options, remaining_retries, stream, stream_cls)\u001B[0m\n\u001B[1;32m    933\u001B[0m \u001B[38;5;28;01mdef\u001B[39;00m \u001B[38;5;21mrequest\u001B[39m(\n\u001B[1;32m    934\u001B[0m     \u001B[38;5;28mself\u001B[39m,\n\u001B[1;32m    935\u001B[0m     cast_to: Type[ResponseT],\n\u001B[0;32m   (...)\u001B[0m\n\u001B[1;32m    940\u001B[0m     stream_cls: \u001B[38;5;28mtype\u001B[39m[_StreamT] \u001B[38;5;241m|\u001B[39m \u001B[38;5;28;01mNone\u001B[39;00m \u001B[38;5;241m=\u001B[39m \u001B[38;5;28;01mNone\u001B[39;00m,\n\u001B[1;32m    941\u001B[0m ) \u001B[38;5;241m-\u001B[39m\u001B[38;5;241m>\u001B[39m ResponseT \u001B[38;5;241m|\u001B[39m _StreamT:\n\u001B[0;32m--> 942\u001B[0m     \u001B[38;5;28;01mreturn\u001B[39;00m \u001B[38;5;28;43mself\u001B[39;49m\u001B[38;5;241;43m.\u001B[39;49m\u001B[43m_request\u001B[49m\u001B[43m(\u001B[49m\n\u001B[1;32m    943\u001B[0m \u001B[43m        \u001B[49m\u001B[43mcast_to\u001B[49m\u001B[38;5;241;43m=\u001B[39;49m\u001B[43mcast_to\u001B[49m\u001B[43m,\u001B[49m\n\u001B[1;32m    944\u001B[0m \u001B[43m        \u001B[49m\u001B[43moptions\u001B[49m\u001B[38;5;241;43m=\u001B[39;49m\u001B[43moptions\u001B[49m\u001B[43m,\u001B[49m\n\u001B[1;32m    945\u001B[0m \u001B[43m        \u001B[49m\u001B[43mstream\u001B[49m\u001B[38;5;241;43m=\u001B[39;49m\u001B[43mstream\u001B[49m\u001B[43m,\u001B[49m\n\u001B[1;32m    946\u001B[0m \u001B[43m        \u001B[49m\u001B[43mstream_cls\u001B[49m\u001B[38;5;241;43m=\u001B[39;49m\u001B[43mstream_cls\u001B[49m\u001B[43m,\u001B[49m\n\u001B[1;32m    947\u001B[0m \u001B[43m        \u001B[49m\u001B[43mremaining_retries\u001B[49m\u001B[38;5;241;43m=\u001B[39;49m\u001B[43mremaining_retries\u001B[49m\u001B[43m,\u001B[49m\n\u001B[1;32m    948\u001B[0m \u001B[43m    \u001B[49m\u001B[43m)\u001B[49m\n",
      "File \u001B[0;32m~/projects/studies/udemy/LLM-Fine-Tuning-on-OpenAI/.venv/lib/python3.11/site-packages/openai/_base_client.py:978\u001B[0m, in \u001B[0;36mSyncAPIClient._request\u001B[0;34m(self, cast_to, options, remaining_retries, stream, stream_cls)\u001B[0m\n\u001B[1;32m    975\u001B[0m log\u001B[38;5;241m.\u001B[39mdebug(\u001B[38;5;124m\"\u001B[39m\u001B[38;5;124mSending HTTP Request: \u001B[39m\u001B[38;5;132;01m%s\u001B[39;00m\u001B[38;5;124m \u001B[39m\u001B[38;5;132;01m%s\u001B[39;00m\u001B[38;5;124m\"\u001B[39m, request\u001B[38;5;241m.\u001B[39mmethod, request\u001B[38;5;241m.\u001B[39murl)\n\u001B[1;32m    977\u001B[0m \u001B[38;5;28;01mtry\u001B[39;00m:\n\u001B[0;32m--> 978\u001B[0m     response \u001B[38;5;241m=\u001B[39m \u001B[38;5;28;43mself\u001B[39;49m\u001B[38;5;241;43m.\u001B[39;49m\u001B[43m_client\u001B[49m\u001B[38;5;241;43m.\u001B[39;49m\u001B[43msend\u001B[49m\u001B[43m(\u001B[49m\n\u001B[1;32m    979\u001B[0m \u001B[43m        \u001B[49m\u001B[43mrequest\u001B[49m\u001B[43m,\u001B[49m\n\u001B[1;32m    980\u001B[0m \u001B[43m        \u001B[49m\u001B[43mstream\u001B[49m\u001B[38;5;241;43m=\u001B[39;49m\u001B[43mstream\u001B[49m\u001B[43m \u001B[49m\u001B[38;5;129;43;01mor\u001B[39;49;00m\u001B[43m \u001B[49m\u001B[38;5;28;43mself\u001B[39;49m\u001B[38;5;241;43m.\u001B[39;49m\u001B[43m_should_stream_response_body\u001B[49m\u001B[43m(\u001B[49m\u001B[43mrequest\u001B[49m\u001B[38;5;241;43m=\u001B[39;49m\u001B[43mrequest\u001B[49m\u001B[43m)\u001B[49m\u001B[43m,\u001B[49m\n\u001B[1;32m    981\u001B[0m \u001B[43m        \u001B[49m\u001B[38;5;241;43m*\u001B[39;49m\u001B[38;5;241;43m*\u001B[39;49m\u001B[43mkwargs\u001B[49m\u001B[43m,\u001B[49m\n\u001B[1;32m    982\u001B[0m \u001B[43m    \u001B[49m\u001B[43m)\u001B[49m\n\u001B[1;32m    983\u001B[0m \u001B[38;5;28;01mexcept\u001B[39;00m httpx\u001B[38;5;241m.\u001B[39mTimeoutException \u001B[38;5;28;01mas\u001B[39;00m err:\n\u001B[1;32m    984\u001B[0m     log\u001B[38;5;241m.\u001B[39mdebug(\u001B[38;5;124m\"\u001B[39m\u001B[38;5;124mEncountered httpx.TimeoutException\u001B[39m\u001B[38;5;124m\"\u001B[39m, exc_info\u001B[38;5;241m=\u001B[39m\u001B[38;5;28;01mTrue\u001B[39;00m)\n",
      "File \u001B[0;32m~/projects/studies/udemy/LLM-Fine-Tuning-on-OpenAI/.venv/lib/python3.11/site-packages/httpx/_client.py:914\u001B[0m, in \u001B[0;36mClient.send\u001B[0;34m(self, request, stream, auth, follow_redirects)\u001B[0m\n\u001B[1;32m    906\u001B[0m follow_redirects \u001B[38;5;241m=\u001B[39m (\n\u001B[1;32m    907\u001B[0m     \u001B[38;5;28mself\u001B[39m\u001B[38;5;241m.\u001B[39mfollow_redirects\n\u001B[1;32m    908\u001B[0m     \u001B[38;5;28;01mif\u001B[39;00m \u001B[38;5;28misinstance\u001B[39m(follow_redirects, UseClientDefault)\n\u001B[1;32m    909\u001B[0m     \u001B[38;5;28;01melse\u001B[39;00m follow_redirects\n\u001B[1;32m    910\u001B[0m )\n\u001B[1;32m    912\u001B[0m auth \u001B[38;5;241m=\u001B[39m \u001B[38;5;28mself\u001B[39m\u001B[38;5;241m.\u001B[39m_build_request_auth(request, auth)\n\u001B[0;32m--> 914\u001B[0m response \u001B[38;5;241m=\u001B[39m \u001B[38;5;28;43mself\u001B[39;49m\u001B[38;5;241;43m.\u001B[39;49m\u001B[43m_send_handling_auth\u001B[49m\u001B[43m(\u001B[49m\n\u001B[1;32m    915\u001B[0m \u001B[43m    \u001B[49m\u001B[43mrequest\u001B[49m\u001B[43m,\u001B[49m\n\u001B[1;32m    916\u001B[0m \u001B[43m    \u001B[49m\u001B[43mauth\u001B[49m\u001B[38;5;241;43m=\u001B[39;49m\u001B[43mauth\u001B[49m\u001B[43m,\u001B[49m\n\u001B[1;32m    917\u001B[0m \u001B[43m    \u001B[49m\u001B[43mfollow_redirects\u001B[49m\u001B[38;5;241;43m=\u001B[39;49m\u001B[43mfollow_redirects\u001B[49m\u001B[43m,\u001B[49m\n\u001B[1;32m    918\u001B[0m \u001B[43m    \u001B[49m\u001B[43mhistory\u001B[49m\u001B[38;5;241;43m=\u001B[39;49m\u001B[43m[\u001B[49m\u001B[43m]\u001B[49m\u001B[43m,\u001B[49m\n\u001B[1;32m    919\u001B[0m \u001B[43m\u001B[49m\u001B[43m)\u001B[49m\n\u001B[1;32m    920\u001B[0m \u001B[38;5;28;01mtry\u001B[39;00m:\n\u001B[1;32m    921\u001B[0m     \u001B[38;5;28;01mif\u001B[39;00m \u001B[38;5;129;01mnot\u001B[39;00m stream:\n",
      "File \u001B[0;32m~/projects/studies/udemy/LLM-Fine-Tuning-on-OpenAI/.venv/lib/python3.11/site-packages/httpx/_client.py:942\u001B[0m, in \u001B[0;36mClient._send_handling_auth\u001B[0;34m(self, request, auth, follow_redirects, history)\u001B[0m\n\u001B[1;32m    939\u001B[0m request \u001B[38;5;241m=\u001B[39m \u001B[38;5;28mnext\u001B[39m(auth_flow)\n\u001B[1;32m    941\u001B[0m \u001B[38;5;28;01mwhile\u001B[39;00m \u001B[38;5;28;01mTrue\u001B[39;00m:\n\u001B[0;32m--> 942\u001B[0m     response \u001B[38;5;241m=\u001B[39m \u001B[38;5;28;43mself\u001B[39;49m\u001B[38;5;241;43m.\u001B[39;49m\u001B[43m_send_handling_redirects\u001B[49m\u001B[43m(\u001B[49m\n\u001B[1;32m    943\u001B[0m \u001B[43m        \u001B[49m\u001B[43mrequest\u001B[49m\u001B[43m,\u001B[49m\n\u001B[1;32m    944\u001B[0m \u001B[43m        \u001B[49m\u001B[43mfollow_redirects\u001B[49m\u001B[38;5;241;43m=\u001B[39;49m\u001B[43mfollow_redirects\u001B[49m\u001B[43m,\u001B[49m\n\u001B[1;32m    945\u001B[0m \u001B[43m        \u001B[49m\u001B[43mhistory\u001B[49m\u001B[38;5;241;43m=\u001B[39;49m\u001B[43mhistory\u001B[49m\u001B[43m,\u001B[49m\n\u001B[1;32m    946\u001B[0m \u001B[43m    \u001B[49m\u001B[43m)\u001B[49m\n\u001B[1;32m    947\u001B[0m     \u001B[38;5;28;01mtry\u001B[39;00m:\n\u001B[1;32m    948\u001B[0m         \u001B[38;5;28;01mtry\u001B[39;00m:\n",
      "File \u001B[0;32m~/projects/studies/udemy/LLM-Fine-Tuning-on-OpenAI/.venv/lib/python3.11/site-packages/httpx/_client.py:979\u001B[0m, in \u001B[0;36mClient._send_handling_redirects\u001B[0;34m(self, request, follow_redirects, history)\u001B[0m\n\u001B[1;32m    976\u001B[0m \u001B[38;5;28;01mfor\u001B[39;00m hook \u001B[38;5;129;01min\u001B[39;00m \u001B[38;5;28mself\u001B[39m\u001B[38;5;241m.\u001B[39m_event_hooks[\u001B[38;5;124m\"\u001B[39m\u001B[38;5;124mrequest\u001B[39m\u001B[38;5;124m\"\u001B[39m]:\n\u001B[1;32m    977\u001B[0m     hook(request)\n\u001B[0;32m--> 979\u001B[0m response \u001B[38;5;241m=\u001B[39m \u001B[38;5;28;43mself\u001B[39;49m\u001B[38;5;241;43m.\u001B[39;49m\u001B[43m_send_single_request\u001B[49m\u001B[43m(\u001B[49m\u001B[43mrequest\u001B[49m\u001B[43m)\u001B[49m\n\u001B[1;32m    980\u001B[0m \u001B[38;5;28;01mtry\u001B[39;00m:\n\u001B[1;32m    981\u001B[0m     \u001B[38;5;28;01mfor\u001B[39;00m hook \u001B[38;5;129;01min\u001B[39;00m \u001B[38;5;28mself\u001B[39m\u001B[38;5;241m.\u001B[39m_event_hooks[\u001B[38;5;124m\"\u001B[39m\u001B[38;5;124mresponse\u001B[39m\u001B[38;5;124m\"\u001B[39m]:\n",
      "File \u001B[0;32m~/projects/studies/udemy/LLM-Fine-Tuning-on-OpenAI/.venv/lib/python3.11/site-packages/httpx/_client.py:1015\u001B[0m, in \u001B[0;36mClient._send_single_request\u001B[0;34m(self, request)\u001B[0m\n\u001B[1;32m   1010\u001B[0m     \u001B[38;5;28;01mraise\u001B[39;00m \u001B[38;5;167;01mRuntimeError\u001B[39;00m(\n\u001B[1;32m   1011\u001B[0m         \u001B[38;5;124m\"\u001B[39m\u001B[38;5;124mAttempted to send an async request with a sync Client instance.\u001B[39m\u001B[38;5;124m\"\u001B[39m\n\u001B[1;32m   1012\u001B[0m     )\n\u001B[1;32m   1014\u001B[0m \u001B[38;5;28;01mwith\u001B[39;00m request_context(request\u001B[38;5;241m=\u001B[39mrequest):\n\u001B[0;32m-> 1015\u001B[0m     response \u001B[38;5;241m=\u001B[39m \u001B[43mtransport\u001B[49m\u001B[38;5;241;43m.\u001B[39;49m\u001B[43mhandle_request\u001B[49m\u001B[43m(\u001B[49m\u001B[43mrequest\u001B[49m\u001B[43m)\u001B[49m\n\u001B[1;32m   1017\u001B[0m \u001B[38;5;28;01massert\u001B[39;00m \u001B[38;5;28misinstance\u001B[39m(response\u001B[38;5;241m.\u001B[39mstream, SyncByteStream)\n\u001B[1;32m   1019\u001B[0m response\u001B[38;5;241m.\u001B[39mrequest \u001B[38;5;241m=\u001B[39m request\n",
      "File \u001B[0;32m~/projects/studies/udemy/LLM-Fine-Tuning-on-OpenAI/.venv/lib/python3.11/site-packages/httpx/_transports/default.py:233\u001B[0m, in \u001B[0;36mHTTPTransport.handle_request\u001B[0;34m(self, request)\u001B[0m\n\u001B[1;32m    220\u001B[0m req \u001B[38;5;241m=\u001B[39m httpcore\u001B[38;5;241m.\u001B[39mRequest(\n\u001B[1;32m    221\u001B[0m     method\u001B[38;5;241m=\u001B[39mrequest\u001B[38;5;241m.\u001B[39mmethod,\n\u001B[1;32m    222\u001B[0m     url\u001B[38;5;241m=\u001B[39mhttpcore\u001B[38;5;241m.\u001B[39mURL(\n\u001B[0;32m   (...)\u001B[0m\n\u001B[1;32m    230\u001B[0m     extensions\u001B[38;5;241m=\u001B[39mrequest\u001B[38;5;241m.\u001B[39mextensions,\n\u001B[1;32m    231\u001B[0m )\n\u001B[1;32m    232\u001B[0m \u001B[38;5;28;01mwith\u001B[39;00m map_httpcore_exceptions():\n\u001B[0;32m--> 233\u001B[0m     resp \u001B[38;5;241m=\u001B[39m \u001B[38;5;28;43mself\u001B[39;49m\u001B[38;5;241;43m.\u001B[39;49m\u001B[43m_pool\u001B[49m\u001B[38;5;241;43m.\u001B[39;49m\u001B[43mhandle_request\u001B[49m\u001B[43m(\u001B[49m\u001B[43mreq\u001B[49m\u001B[43m)\u001B[49m\n\u001B[1;32m    235\u001B[0m \u001B[38;5;28;01massert\u001B[39;00m \u001B[38;5;28misinstance\u001B[39m(resp\u001B[38;5;241m.\u001B[39mstream, typing\u001B[38;5;241m.\u001B[39mIterable)\n\u001B[1;32m    237\u001B[0m \u001B[38;5;28;01mreturn\u001B[39;00m Response(\n\u001B[1;32m    238\u001B[0m     status_code\u001B[38;5;241m=\u001B[39mresp\u001B[38;5;241m.\u001B[39mstatus,\n\u001B[1;32m    239\u001B[0m     headers\u001B[38;5;241m=\u001B[39mresp\u001B[38;5;241m.\u001B[39mheaders,\n\u001B[1;32m    240\u001B[0m     stream\u001B[38;5;241m=\u001B[39mResponseStream(resp\u001B[38;5;241m.\u001B[39mstream),\n\u001B[1;32m    241\u001B[0m     extensions\u001B[38;5;241m=\u001B[39mresp\u001B[38;5;241m.\u001B[39mextensions,\n\u001B[1;32m    242\u001B[0m )\n",
      "File \u001B[0;32m~/projects/studies/udemy/LLM-Fine-Tuning-on-OpenAI/.venv/lib/python3.11/site-packages/httpcore/_sync/connection_pool.py:216\u001B[0m, in \u001B[0;36mConnectionPool.handle_request\u001B[0;34m(self, request)\u001B[0m\n\u001B[1;32m    213\u001B[0m         closing \u001B[38;5;241m=\u001B[39m \u001B[38;5;28mself\u001B[39m\u001B[38;5;241m.\u001B[39m_assign_requests_to_connections()\n\u001B[1;32m    215\u001B[0m     \u001B[38;5;28mself\u001B[39m\u001B[38;5;241m.\u001B[39m_close_connections(closing)\n\u001B[0;32m--> 216\u001B[0m     \u001B[38;5;28;01mraise\u001B[39;00m exc \u001B[38;5;28;01mfrom\u001B[39;00m \u001B[38;5;28;01mNone\u001B[39;00m\n\u001B[1;32m    218\u001B[0m \u001B[38;5;66;03m# Return the response. Note that in this case we still have to manage\u001B[39;00m\n\u001B[1;32m    219\u001B[0m \u001B[38;5;66;03m# the point at which the response is closed.\u001B[39;00m\n\u001B[1;32m    220\u001B[0m \u001B[38;5;28;01massert\u001B[39;00m \u001B[38;5;28misinstance\u001B[39m(response\u001B[38;5;241m.\u001B[39mstream, Iterable)\n",
      "File \u001B[0;32m~/projects/studies/udemy/LLM-Fine-Tuning-on-OpenAI/.venv/lib/python3.11/site-packages/httpcore/_sync/connection_pool.py:196\u001B[0m, in \u001B[0;36mConnectionPool.handle_request\u001B[0;34m(self, request)\u001B[0m\n\u001B[1;32m    192\u001B[0m connection \u001B[38;5;241m=\u001B[39m pool_request\u001B[38;5;241m.\u001B[39mwait_for_connection(timeout\u001B[38;5;241m=\u001B[39mtimeout)\n\u001B[1;32m    194\u001B[0m \u001B[38;5;28;01mtry\u001B[39;00m:\n\u001B[1;32m    195\u001B[0m     \u001B[38;5;66;03m# Send the request on the assigned connection.\u001B[39;00m\n\u001B[0;32m--> 196\u001B[0m     response \u001B[38;5;241m=\u001B[39m \u001B[43mconnection\u001B[49m\u001B[38;5;241;43m.\u001B[39;49m\u001B[43mhandle_request\u001B[49m\u001B[43m(\u001B[49m\n\u001B[1;32m    197\u001B[0m \u001B[43m        \u001B[49m\u001B[43mpool_request\u001B[49m\u001B[38;5;241;43m.\u001B[39;49m\u001B[43mrequest\u001B[49m\n\u001B[1;32m    198\u001B[0m \u001B[43m    \u001B[49m\u001B[43m)\u001B[49m\n\u001B[1;32m    199\u001B[0m \u001B[38;5;28;01mexcept\u001B[39;00m ConnectionNotAvailable:\n\u001B[1;32m    200\u001B[0m     \u001B[38;5;66;03m# In some cases a connection may initially be available to\u001B[39;00m\n\u001B[1;32m    201\u001B[0m     \u001B[38;5;66;03m# handle a request, but then become unavailable.\u001B[39;00m\n\u001B[1;32m    202\u001B[0m     \u001B[38;5;66;03m#\u001B[39;00m\n\u001B[1;32m    203\u001B[0m     \u001B[38;5;66;03m# In this case we clear the connection and try again.\u001B[39;00m\n\u001B[1;32m    204\u001B[0m     pool_request\u001B[38;5;241m.\u001B[39mclear_connection()\n",
      "File \u001B[0;32m~/projects/studies/udemy/LLM-Fine-Tuning-on-OpenAI/.venv/lib/python3.11/site-packages/httpcore/_sync/connection.py:101\u001B[0m, in \u001B[0;36mHTTPConnection.handle_request\u001B[0;34m(self, request)\u001B[0m\n\u001B[1;32m     98\u001B[0m     \u001B[38;5;28mself\u001B[39m\u001B[38;5;241m.\u001B[39m_connect_failed \u001B[38;5;241m=\u001B[39m \u001B[38;5;28;01mTrue\u001B[39;00m\n\u001B[1;32m     99\u001B[0m     \u001B[38;5;28;01mraise\u001B[39;00m exc\n\u001B[0;32m--> 101\u001B[0m \u001B[38;5;28;01mreturn\u001B[39;00m \u001B[38;5;28;43mself\u001B[39;49m\u001B[38;5;241;43m.\u001B[39;49m\u001B[43m_connection\u001B[49m\u001B[38;5;241;43m.\u001B[39;49m\u001B[43mhandle_request\u001B[49m\u001B[43m(\u001B[49m\u001B[43mrequest\u001B[49m\u001B[43m)\u001B[49m\n",
      "File \u001B[0;32m~/projects/studies/udemy/LLM-Fine-Tuning-on-OpenAI/.venv/lib/python3.11/site-packages/httpcore/_sync/http11.py:143\u001B[0m, in \u001B[0;36mHTTP11Connection.handle_request\u001B[0;34m(self, request)\u001B[0m\n\u001B[1;32m    141\u001B[0m     \u001B[38;5;28;01mwith\u001B[39;00m Trace(\u001B[38;5;124m\"\u001B[39m\u001B[38;5;124mresponse_closed\u001B[39m\u001B[38;5;124m\"\u001B[39m, logger, request) \u001B[38;5;28;01mas\u001B[39;00m trace:\n\u001B[1;32m    142\u001B[0m         \u001B[38;5;28mself\u001B[39m\u001B[38;5;241m.\u001B[39m_response_closed()\n\u001B[0;32m--> 143\u001B[0m \u001B[38;5;28;01mraise\u001B[39;00m exc\n",
      "File \u001B[0;32m~/projects/studies/udemy/LLM-Fine-Tuning-on-OpenAI/.venv/lib/python3.11/site-packages/httpcore/_sync/http11.py:113\u001B[0m, in \u001B[0;36mHTTP11Connection.handle_request\u001B[0;34m(self, request)\u001B[0m\n\u001B[1;32m    102\u001B[0m     \u001B[38;5;28;01mpass\u001B[39;00m\n\u001B[1;32m    104\u001B[0m \u001B[38;5;28;01mwith\u001B[39;00m Trace(\n\u001B[1;32m    105\u001B[0m     \u001B[38;5;124m\"\u001B[39m\u001B[38;5;124mreceive_response_headers\u001B[39m\u001B[38;5;124m\"\u001B[39m, logger, request, kwargs\n\u001B[1;32m    106\u001B[0m ) \u001B[38;5;28;01mas\u001B[39;00m trace:\n\u001B[1;32m    107\u001B[0m     (\n\u001B[1;32m    108\u001B[0m         http_version,\n\u001B[1;32m    109\u001B[0m         status,\n\u001B[1;32m    110\u001B[0m         reason_phrase,\n\u001B[1;32m    111\u001B[0m         headers,\n\u001B[1;32m    112\u001B[0m         trailing_data,\n\u001B[0;32m--> 113\u001B[0m     ) \u001B[38;5;241m=\u001B[39m \u001B[38;5;28;43mself\u001B[39;49m\u001B[38;5;241;43m.\u001B[39;49m\u001B[43m_receive_response_headers\u001B[49m\u001B[43m(\u001B[49m\u001B[38;5;241;43m*\u001B[39;49m\u001B[38;5;241;43m*\u001B[39;49m\u001B[43mkwargs\u001B[49m\u001B[43m)\u001B[49m\n\u001B[1;32m    114\u001B[0m     trace\u001B[38;5;241m.\u001B[39mreturn_value \u001B[38;5;241m=\u001B[39m (\n\u001B[1;32m    115\u001B[0m         http_version,\n\u001B[1;32m    116\u001B[0m         status,\n\u001B[1;32m    117\u001B[0m         reason_phrase,\n\u001B[1;32m    118\u001B[0m         headers,\n\u001B[1;32m    119\u001B[0m     )\n\u001B[1;32m    121\u001B[0m network_stream \u001B[38;5;241m=\u001B[39m \u001B[38;5;28mself\u001B[39m\u001B[38;5;241m.\u001B[39m_network_stream\n",
      "File \u001B[0;32m~/projects/studies/udemy/LLM-Fine-Tuning-on-OpenAI/.venv/lib/python3.11/site-packages/httpcore/_sync/http11.py:186\u001B[0m, in \u001B[0;36mHTTP11Connection._receive_response_headers\u001B[0;34m(self, request)\u001B[0m\n\u001B[1;32m    183\u001B[0m timeout \u001B[38;5;241m=\u001B[39m timeouts\u001B[38;5;241m.\u001B[39mget(\u001B[38;5;124m\"\u001B[39m\u001B[38;5;124mread\u001B[39m\u001B[38;5;124m\"\u001B[39m, \u001B[38;5;28;01mNone\u001B[39;00m)\n\u001B[1;32m    185\u001B[0m \u001B[38;5;28;01mwhile\u001B[39;00m \u001B[38;5;28;01mTrue\u001B[39;00m:\n\u001B[0;32m--> 186\u001B[0m     event \u001B[38;5;241m=\u001B[39m \u001B[38;5;28;43mself\u001B[39;49m\u001B[38;5;241;43m.\u001B[39;49m\u001B[43m_receive_event\u001B[49m\u001B[43m(\u001B[49m\u001B[43mtimeout\u001B[49m\u001B[38;5;241;43m=\u001B[39;49m\u001B[43mtimeout\u001B[49m\u001B[43m)\u001B[49m\n\u001B[1;32m    187\u001B[0m     \u001B[38;5;28;01mif\u001B[39;00m \u001B[38;5;28misinstance\u001B[39m(event, h11\u001B[38;5;241m.\u001B[39mResponse):\n\u001B[1;32m    188\u001B[0m         \u001B[38;5;28;01mbreak\u001B[39;00m\n",
      "File \u001B[0;32m~/projects/studies/udemy/LLM-Fine-Tuning-on-OpenAI/.venv/lib/python3.11/site-packages/httpcore/_sync/http11.py:224\u001B[0m, in \u001B[0;36mHTTP11Connection._receive_event\u001B[0;34m(self, timeout)\u001B[0m\n\u001B[1;32m    221\u001B[0m     event \u001B[38;5;241m=\u001B[39m \u001B[38;5;28mself\u001B[39m\u001B[38;5;241m.\u001B[39m_h11_state\u001B[38;5;241m.\u001B[39mnext_event()\n\u001B[1;32m    223\u001B[0m \u001B[38;5;28;01mif\u001B[39;00m event \u001B[38;5;129;01mis\u001B[39;00m h11\u001B[38;5;241m.\u001B[39mNEED_DATA:\n\u001B[0;32m--> 224\u001B[0m     data \u001B[38;5;241m=\u001B[39m \u001B[38;5;28;43mself\u001B[39;49m\u001B[38;5;241;43m.\u001B[39;49m\u001B[43m_network_stream\u001B[49m\u001B[38;5;241;43m.\u001B[39;49m\u001B[43mread\u001B[49m\u001B[43m(\u001B[49m\n\u001B[1;32m    225\u001B[0m \u001B[43m        \u001B[49m\u001B[38;5;28;43mself\u001B[39;49m\u001B[38;5;241;43m.\u001B[39;49m\u001B[43mREAD_NUM_BYTES\u001B[49m\u001B[43m,\u001B[49m\u001B[43m \u001B[49m\u001B[43mtimeout\u001B[49m\u001B[38;5;241;43m=\u001B[39;49m\u001B[43mtimeout\u001B[49m\n\u001B[1;32m    226\u001B[0m \u001B[43m    \u001B[49m\u001B[43m)\u001B[49m\n\u001B[1;32m    228\u001B[0m     \u001B[38;5;66;03m# If we feed this case through h11 we'll raise an exception like:\u001B[39;00m\n\u001B[1;32m    229\u001B[0m     \u001B[38;5;66;03m#\u001B[39;00m\n\u001B[1;32m    230\u001B[0m     \u001B[38;5;66;03m#     httpcore.RemoteProtocolError: can't handle event type\u001B[39;00m\n\u001B[0;32m   (...)\u001B[0m\n\u001B[1;32m    234\u001B[0m     \u001B[38;5;66;03m# perspective. Instead we handle this case distinctly and treat\u001B[39;00m\n\u001B[1;32m    235\u001B[0m     \u001B[38;5;66;03m# it as a ConnectError.\u001B[39;00m\n\u001B[1;32m    236\u001B[0m     \u001B[38;5;28;01mif\u001B[39;00m data \u001B[38;5;241m==\u001B[39m \u001B[38;5;124mb\u001B[39m\u001B[38;5;124m\"\u001B[39m\u001B[38;5;124m\"\u001B[39m \u001B[38;5;129;01mand\u001B[39;00m \u001B[38;5;28mself\u001B[39m\u001B[38;5;241m.\u001B[39m_h11_state\u001B[38;5;241m.\u001B[39mtheir_state \u001B[38;5;241m==\u001B[39m h11\u001B[38;5;241m.\u001B[39mSEND_RESPONSE:\n",
      "File \u001B[0;32m~/projects/studies/udemy/LLM-Fine-Tuning-on-OpenAI/.venv/lib/python3.11/site-packages/httpcore/_backends/sync.py:126\u001B[0m, in \u001B[0;36mSyncStream.read\u001B[0;34m(self, max_bytes, timeout)\u001B[0m\n\u001B[1;32m    124\u001B[0m \u001B[38;5;28;01mwith\u001B[39;00m map_exceptions(exc_map):\n\u001B[1;32m    125\u001B[0m     \u001B[38;5;28mself\u001B[39m\u001B[38;5;241m.\u001B[39m_sock\u001B[38;5;241m.\u001B[39msettimeout(timeout)\n\u001B[0;32m--> 126\u001B[0m     \u001B[38;5;28;01mreturn\u001B[39;00m \u001B[38;5;28;43mself\u001B[39;49m\u001B[38;5;241;43m.\u001B[39;49m\u001B[43m_sock\u001B[49m\u001B[38;5;241;43m.\u001B[39;49m\u001B[43mrecv\u001B[49m\u001B[43m(\u001B[49m\u001B[43mmax_bytes\u001B[49m\u001B[43m)\u001B[49m\n",
      "File \u001B[0;32m/Library/Frameworks/Python.framework/Versions/3.11/lib/python3.11/ssl.py:1296\u001B[0m, in \u001B[0;36mSSLSocket.recv\u001B[0;34m(self, buflen, flags)\u001B[0m\n\u001B[1;32m   1292\u001B[0m     \u001B[38;5;28;01mif\u001B[39;00m flags \u001B[38;5;241m!=\u001B[39m \u001B[38;5;241m0\u001B[39m:\n\u001B[1;32m   1293\u001B[0m         \u001B[38;5;28;01mraise\u001B[39;00m \u001B[38;5;167;01mValueError\u001B[39;00m(\n\u001B[1;32m   1294\u001B[0m             \u001B[38;5;124m\"\u001B[39m\u001B[38;5;124mnon-zero flags not allowed in calls to recv() on \u001B[39m\u001B[38;5;132;01m%s\u001B[39;00m\u001B[38;5;124m\"\u001B[39m \u001B[38;5;241m%\u001B[39m\n\u001B[1;32m   1295\u001B[0m             \u001B[38;5;28mself\u001B[39m\u001B[38;5;241m.\u001B[39m\u001B[38;5;18m__class__\u001B[39m)\n\u001B[0;32m-> 1296\u001B[0m     \u001B[38;5;28;01mreturn\u001B[39;00m \u001B[38;5;28;43mself\u001B[39;49m\u001B[38;5;241;43m.\u001B[39;49m\u001B[43mread\u001B[49m\u001B[43m(\u001B[49m\u001B[43mbuflen\u001B[49m\u001B[43m)\u001B[49m\n\u001B[1;32m   1297\u001B[0m \u001B[38;5;28;01melse\u001B[39;00m:\n\u001B[1;32m   1298\u001B[0m     \u001B[38;5;28;01mreturn\u001B[39;00m \u001B[38;5;28msuper\u001B[39m()\u001B[38;5;241m.\u001B[39mrecv(buflen, flags)\n",
      "File \u001B[0;32m/Library/Frameworks/Python.framework/Versions/3.11/lib/python3.11/ssl.py:1169\u001B[0m, in \u001B[0;36mSSLSocket.read\u001B[0;34m(self, len, buffer)\u001B[0m\n\u001B[1;32m   1167\u001B[0m         \u001B[38;5;28;01mreturn\u001B[39;00m \u001B[38;5;28mself\u001B[39m\u001B[38;5;241m.\u001B[39m_sslobj\u001B[38;5;241m.\u001B[39mread(\u001B[38;5;28mlen\u001B[39m, buffer)\n\u001B[1;32m   1168\u001B[0m     \u001B[38;5;28;01melse\u001B[39;00m:\n\u001B[0;32m-> 1169\u001B[0m         \u001B[38;5;28;01mreturn\u001B[39;00m \u001B[38;5;28;43mself\u001B[39;49m\u001B[38;5;241;43m.\u001B[39;49m\u001B[43m_sslobj\u001B[49m\u001B[38;5;241;43m.\u001B[39;49m\u001B[43mread\u001B[49m\u001B[43m(\u001B[49m\u001B[38;5;28;43mlen\u001B[39;49m\u001B[43m)\u001B[49m\n\u001B[1;32m   1170\u001B[0m \u001B[38;5;28;01mexcept\u001B[39;00m SSLError \u001B[38;5;28;01mas\u001B[39;00m x:\n\u001B[1;32m   1171\u001B[0m     \u001B[38;5;28;01mif\u001B[39;00m x\u001B[38;5;241m.\u001B[39margs[\u001B[38;5;241m0\u001B[39m] \u001B[38;5;241m==\u001B[39m SSL_ERROR_EOF \u001B[38;5;129;01mand\u001B[39;00m \u001B[38;5;28mself\u001B[39m\u001B[38;5;241m.\u001B[39msuppress_ragged_eofs:\n",
      "\u001B[0;31mKeyboardInterrupt\u001B[0m: "
     ]
    }
   ],
   "execution_count": 88
  },
  {
   "metadata": {
    "ExecuteTime": {
     "end_time": "2024-08-02T18:53:52.180796Z",
     "start_time": "2024-08-02T18:53:52.160045Z"
    }
   },
   "cell_type": "code",
   "source": [
    "import numpy as np\n",
    "(np.array(predicted_classes) == np.array(ground_truth_classes)).mean()"
   ],
   "id": "34210c2604b313d",
   "outputs": [
    {
     "ename": "ValueError",
     "evalue": "operands could not be broadcast together with shapes (464,) (465,) ",
     "output_type": "error",
     "traceback": [
      "\u001B[0;31m---------------------------------------------------------------------------\u001B[0m",
      "\u001B[0;31mValueError\u001B[0m                                Traceback (most recent call last)",
      "Cell \u001B[0;32mIn[94], line 2\u001B[0m\n\u001B[1;32m      1\u001B[0m \u001B[38;5;28;01mimport\u001B[39;00m \u001B[38;5;21;01mnumpy\u001B[39;00m \u001B[38;5;28;01mas\u001B[39;00m \u001B[38;5;21;01mnp\u001B[39;00m\n\u001B[0;32m----> 2\u001B[0m (\u001B[43mnp\u001B[49m\u001B[38;5;241;43m.\u001B[39;49m\u001B[43marray\u001B[49m\u001B[43m(\u001B[49m\u001B[43mpredicted_classes\u001B[49m\u001B[43m)\u001B[49m\u001B[43m \u001B[49m\u001B[38;5;241;43m==\u001B[39;49m\u001B[43m \u001B[49m\u001B[43mnp\u001B[49m\u001B[38;5;241;43m.\u001B[39;49m\u001B[43marray\u001B[49m\u001B[43m(\u001B[49m\u001B[43mground_truth_classes\u001B[49m\u001B[43m)\u001B[49m)\u001B[38;5;241m.\u001B[39mmean()\n",
      "\u001B[0;31mValueError\u001B[0m: operands could not be broadcast together with shapes (464,) (465,) "
     ]
    }
   ],
   "execution_count": 94
  },
  {
   "metadata": {
    "ExecuteTime": {
     "end_time": "2024-08-02T18:53:26.590227Z",
     "start_time": "2024-08-02T18:53:26.576187Z"
    }
   },
   "cell_type": "code",
   "source": "ground_truth_classes",
   "id": "3e86df8706fbb33e",
   "outputs": [
    {
     "data": {
      "text/plain": [
       "['Cardiovascular / Pulmonary',\n",
       " 'Cardiovascular / Pulmonary',\n",
       " 'Cardiovascular / Pulmonary',\n",
       " 'Cardiovascular / Pulmonary',\n",
       " 'Cardiovascular / Pulmonary',\n",
       " 'Cardiovascular / Pulmonary',\n",
       " 'Cardiovascular / Pulmonary',\n",
       " 'Cardiovascular / Pulmonary',\n",
       " 'Cardiovascular / Pulmonary',\n",
       " 'Cardiovascular / Pulmonary',\n",
       " 'Cardiovascular / Pulmonary',\n",
       " 'Cardiovascular / Pulmonary',\n",
       " 'Cardiovascular / Pulmonary',\n",
       " 'Cardiovascular / Pulmonary',\n",
       " 'Cardiovascular / Pulmonary',\n",
       " 'Cardiovascular / Pulmonary',\n",
       " 'Cardiovascular / Pulmonary',\n",
       " 'Cardiovascular / Pulmonary',\n",
       " 'Cardiovascular / Pulmonary',\n",
       " 'Cardiovascular / Pulmonary',\n",
       " 'Cardiovascular / Pulmonary',\n",
       " 'Cardiovascular / Pulmonary',\n",
       " 'Cardiovascular / Pulmonary',\n",
       " 'Cardiovascular / Pulmonary',\n",
       " 'Cardiovascular / Pulmonary',\n",
       " 'Cardiovascular / Pulmonary',\n",
       " 'Cardiovascular / Pulmonary',\n",
       " 'Cardiovascular / Pulmonary',\n",
       " 'Cardiovascular / Pulmonary',\n",
       " 'Cardiovascular / Pulmonary',\n",
       " 'Cardiovascular / Pulmonary',\n",
       " 'Cardiovascular / Pulmonary',\n",
       " 'Cardiovascular / Pulmonary',\n",
       " 'Cardiovascular / Pulmonary',\n",
       " 'Cardiovascular / Pulmonary',\n",
       " 'Cardiovascular / Pulmonary',\n",
       " 'Cardiovascular / Pulmonary',\n",
       " 'Cardiovascular / Pulmonary',\n",
       " 'Cardiovascular / Pulmonary',\n",
       " 'Cardiovascular / Pulmonary',\n",
       " 'Cardiovascular / Pulmonary',\n",
       " 'Cardiovascular / Pulmonary',\n",
       " 'Cardiovascular / Pulmonary',\n",
       " 'Cardiovascular / Pulmonary',\n",
       " 'Cardiovascular / Pulmonary',\n",
       " 'Cardiovascular / Pulmonary',\n",
       " 'Cardiovascular / Pulmonary',\n",
       " 'Cardiovascular / Pulmonary',\n",
       " 'Cardiovascular / Pulmonary',\n",
       " 'Cardiovascular / Pulmonary',\n",
       " 'Cardiovascular / Pulmonary',\n",
       " 'Cardiovascular / Pulmonary',\n",
       " 'Cardiovascular / Pulmonary',\n",
       " 'Cardiovascular / Pulmonary',\n",
       " 'Cardiovascular / Pulmonary',\n",
       " 'Cardiovascular / Pulmonary',\n",
       " 'Cardiovascular / Pulmonary',\n",
       " 'Cardiovascular / Pulmonary',\n",
       " 'Cardiovascular / Pulmonary',\n",
       " 'Cardiovascular / Pulmonary',\n",
       " 'Cardiovascular / Pulmonary',\n",
       " 'Cardiovascular / Pulmonary',\n",
       " 'Cardiovascular / Pulmonary',\n",
       " 'Cardiovascular / Pulmonary',\n",
       " 'Cardiovascular / Pulmonary',\n",
       " 'Cardiovascular / Pulmonary',\n",
       " 'Cardiovascular / Pulmonary',\n",
       " 'Cardiovascular / Pulmonary',\n",
       " 'Cardiovascular / Pulmonary',\n",
       " 'Cardiovascular / Pulmonary',\n",
       " 'Cardiovascular / Pulmonary',\n",
       " 'Cardiovascular / Pulmonary',\n",
       " 'Cardiovascular / Pulmonary',\n",
       " 'Cardiovascular / Pulmonary',\n",
       " 'Cardiovascular / Pulmonary',\n",
       " 'Cardiovascular / Pulmonary',\n",
       " 'Cardiovascular / Pulmonary',\n",
       " 'Cardiovascular / Pulmonary',\n",
       " 'Cardiovascular / Pulmonary',\n",
       " 'Cardiovascular / Pulmonary',\n",
       " 'Cardiovascular / Pulmonary',\n",
       " 'Cardiovascular / Pulmonary',\n",
       " 'Cardiovascular / Pulmonary',\n",
       " 'Cardiovascular / Pulmonary',\n",
       " 'Cardiovascular / Pulmonary',\n",
       " 'Cardiovascular / Pulmonary',\n",
       " 'Cardiovascular / Pulmonary',\n",
       " 'Cardiovascular / Pulmonary',\n",
       " 'Cardiovascular / Pulmonary',\n",
       " 'Cardiovascular / Pulmonary',\n",
       " 'Cardiovascular / Pulmonary',\n",
       " 'Cardiovascular / Pulmonary',\n",
       " 'Cardiovascular / Pulmonary',\n",
       " 'Cardiovascular / Pulmonary',\n",
       " 'Cardiovascular / Pulmonary',\n",
       " 'Cardiovascular / Pulmonary',\n",
       " 'Cardiovascular / Pulmonary',\n",
       " 'Cardiovascular / Pulmonary',\n",
       " 'Cardiovascular / Pulmonary',\n",
       " 'Cardiovascular / Pulmonary',\n",
       " 'Cardiovascular / Pulmonary',\n",
       " 'Cardiovascular / Pulmonary',\n",
       " 'Cardiovascular / Pulmonary',\n",
       " 'Cardiovascular / Pulmonary',\n",
       " 'Cardiovascular / Pulmonary',\n",
       " 'Cardiovascular / Pulmonary',\n",
       " 'Cardiovascular / Pulmonary',\n",
       " 'Cardiovascular / Pulmonary',\n",
       " 'Cardiovascular / Pulmonary',\n",
       " 'Cardiovascular / Pulmonary',\n",
       " 'Gastroenterology',\n",
       " 'Gastroenterology',\n",
       " 'Gastroenterology',\n",
       " 'Gastroenterology',\n",
       " 'Gastroenterology',\n",
       " 'Gastroenterology',\n",
       " 'Gastroenterology',\n",
       " 'Gastroenterology',\n",
       " 'Gastroenterology',\n",
       " 'Gastroenterology',\n",
       " 'Gastroenterology',\n",
       " 'Gastroenterology',\n",
       " 'Gastroenterology',\n",
       " 'Gastroenterology',\n",
       " 'Gastroenterology',\n",
       " 'Gastroenterology',\n",
       " 'Gastroenterology',\n",
       " 'Gastroenterology',\n",
       " 'Gastroenterology',\n",
       " 'Gastroenterology',\n",
       " 'Gastroenterology',\n",
       " 'Gastroenterology',\n",
       " 'Gastroenterology',\n",
       " 'Gastroenterology',\n",
       " 'Gastroenterology',\n",
       " 'Gastroenterology',\n",
       " 'Gastroenterology',\n",
       " 'Gastroenterology',\n",
       " 'Gastroenterology',\n",
       " 'Gastroenterology',\n",
       " 'Gastroenterology',\n",
       " 'Gastroenterology',\n",
       " 'Gastroenterology',\n",
       " 'Gastroenterology',\n",
       " 'Gastroenterology',\n",
       " 'Gastroenterology',\n",
       " 'Gastroenterology',\n",
       " 'Gastroenterology',\n",
       " 'Gastroenterology',\n",
       " 'Gastroenterology',\n",
       " 'Gastroenterology',\n",
       " 'Gastroenterology',\n",
       " 'Gastroenterology',\n",
       " 'Gastroenterology',\n",
       " 'Gastroenterology',\n",
       " 'Gastroenterology',\n",
       " 'Gastroenterology',\n",
       " 'Gastroenterology',\n",
       " 'Gastroenterology',\n",
       " 'Gastroenterology',\n",
       " 'Gastroenterology',\n",
       " 'Gastroenterology',\n",
       " 'Gastroenterology',\n",
       " 'Gastroenterology',\n",
       " 'Gastroenterology',\n",
       " 'Gastroenterology',\n",
       " 'Gastroenterology',\n",
       " 'Gastroenterology',\n",
       " 'Gastroenterology',\n",
       " 'Gastroenterology',\n",
       " 'Gastroenterology',\n",
       " 'Gastroenterology',\n",
       " 'Gastroenterology',\n",
       " 'Gastroenterology',\n",
       " 'Gastroenterology',\n",
       " 'Gastroenterology',\n",
       " 'Gastroenterology',\n",
       " 'Gastroenterology',\n",
       " 'Gastroenterology',\n",
       " 'Gastroenterology',\n",
       " 'Gastroenterology',\n",
       " 'Gastroenterology',\n",
       " 'Gastroenterology',\n",
       " 'Gastroenterology',\n",
       " 'Gastroenterology',\n",
       " 'Gastroenterology',\n",
       " 'Gastroenterology',\n",
       " 'Gastroenterology',\n",
       " 'Gastroenterology',\n",
       " 'Gastroenterology',\n",
       " 'Gastroenterology',\n",
       " 'Gastroenterology',\n",
       " 'Gastroenterology',\n",
       " 'Gastroenterology',\n",
       " 'Gastroenterology',\n",
       " 'Gastroenterology',\n",
       " 'Gastroenterology',\n",
       " 'Gastroenterology',\n",
       " 'Gastroenterology',\n",
       " 'Gastroenterology',\n",
       " 'Gastroenterology',\n",
       " 'Gastroenterology',\n",
       " 'Gastroenterology',\n",
       " 'Gastroenterology',\n",
       " 'Gastroenterology',\n",
       " 'Gastroenterology',\n",
       " 'Gastroenterology',\n",
       " 'Gastroenterology',\n",
       " 'Gastroenterology',\n",
       " 'Gastroenterology',\n",
       " 'Gastroenterology',\n",
       " 'Gastroenterology',\n",
       " 'Gastroenterology',\n",
       " 'Gastroenterology',\n",
       " 'Gastroenterology',\n",
       " 'Gastroenterology',\n",
       " 'Gastroenterology',\n",
       " 'Gastroenterology',\n",
       " 'Gastroenterology',\n",
       " 'Gastroenterology',\n",
       " 'Neurology',\n",
       " 'Neurology',\n",
       " 'Neurology',\n",
       " 'Neurology',\n",
       " 'Neurology',\n",
       " 'Neurology',\n",
       " 'Neurology',\n",
       " 'Neurology',\n",
       " 'Neurology',\n",
       " 'Neurology',\n",
       " 'Neurology',\n",
       " 'Neurology',\n",
       " 'Neurology',\n",
       " 'Neurology',\n",
       " 'Neurology',\n",
       " 'Neurology',\n",
       " 'Neurology',\n",
       " 'Neurology',\n",
       " 'Neurology',\n",
       " 'Neurology',\n",
       " 'Neurology',\n",
       " 'Neurology',\n",
       " 'Neurology',\n",
       " 'Neurology',\n",
       " 'Neurology',\n",
       " 'Neurology',\n",
       " 'Neurology',\n",
       " 'Neurology',\n",
       " 'Neurology',\n",
       " 'Neurology',\n",
       " 'Neurology',\n",
       " 'Neurology',\n",
       " 'Neurology',\n",
       " 'Neurology',\n",
       " 'Neurology',\n",
       " 'Neurology',\n",
       " 'Neurology',\n",
       " 'Neurology',\n",
       " 'Neurology',\n",
       " 'Neurology',\n",
       " 'Neurology',\n",
       " 'Neurology',\n",
       " 'Neurology',\n",
       " 'Neurology',\n",
       " 'Neurology',\n",
       " 'Neurology',\n",
       " 'Neurology',\n",
       " 'Neurology',\n",
       " 'Neurology',\n",
       " 'Neurology',\n",
       " 'Neurology',\n",
       " 'Neurology',\n",
       " 'Neurology',\n",
       " 'Neurology',\n",
       " 'Neurology',\n",
       " 'Neurology',\n",
       " 'Neurology',\n",
       " 'Neurology',\n",
       " 'Neurology',\n",
       " 'Neurology',\n",
       " 'Neurology',\n",
       " 'Neurology',\n",
       " 'Neurology',\n",
       " 'Neurology',\n",
       " 'Neurology',\n",
       " 'Neurology',\n",
       " 'Neurology',\n",
       " 'Neurology',\n",
       " 'Neurology',\n",
       " 'Neurology',\n",
       " 'Neurology',\n",
       " 'Neurology',\n",
       " 'Neurology',\n",
       " 'Neurology',\n",
       " 'Neurology',\n",
       " 'Neurology',\n",
       " 'Neurology',\n",
       " 'Neurology',\n",
       " 'Neurology',\n",
       " 'Neurology',\n",
       " 'Neurology',\n",
       " 'Neurology',\n",
       " 'Neurology',\n",
       " 'Neurology',\n",
       " 'Neurology',\n",
       " 'Neurology',\n",
       " 'Neurology',\n",
       " 'Neurology',\n",
       " 'Neurology',\n",
       " 'Neurology',\n",
       " 'Neurology',\n",
       " 'Neurology',\n",
       " 'Neurology',\n",
       " 'Neurology',\n",
       " 'Neurology',\n",
       " 'Neurology',\n",
       " 'Neurology',\n",
       " 'Neurology',\n",
       " 'Neurology',\n",
       " 'Neurology',\n",
       " 'Neurology',\n",
       " 'Neurology',\n",
       " 'Neurology',\n",
       " 'Neurology',\n",
       " 'Neurology',\n",
       " 'Neurology',\n",
       " 'Neurology',\n",
       " 'Neurology',\n",
       " 'Neurology',\n",
       " 'Neurology',\n",
       " 'Radiology',\n",
       " 'Radiology',\n",
       " 'Radiology',\n",
       " 'Radiology',\n",
       " 'Radiology',\n",
       " 'Radiology',\n",
       " 'Radiology',\n",
       " 'Radiology',\n",
       " 'Radiology',\n",
       " 'Radiology',\n",
       " 'Radiology',\n",
       " 'Radiology',\n",
       " 'Radiology',\n",
       " 'Radiology',\n",
       " 'Radiology',\n",
       " 'Radiology',\n",
       " 'Radiology',\n",
       " 'Radiology',\n",
       " 'Radiology',\n",
       " 'Radiology',\n",
       " 'Radiology',\n",
       " 'Radiology',\n",
       " 'Radiology',\n",
       " 'Radiology',\n",
       " 'Radiology',\n",
       " 'Radiology',\n",
       " 'Radiology',\n",
       " 'Radiology',\n",
       " 'Radiology',\n",
       " 'Radiology',\n",
       " 'Radiology',\n",
       " 'Radiology',\n",
       " 'Radiology',\n",
       " 'Radiology',\n",
       " 'Radiology',\n",
       " 'Radiology',\n",
       " 'Radiology',\n",
       " 'Radiology',\n",
       " 'Radiology',\n",
       " 'Radiology',\n",
       " 'Radiology',\n",
       " 'Radiology',\n",
       " 'Radiology',\n",
       " 'Radiology',\n",
       " 'Radiology',\n",
       " 'Radiology',\n",
       " 'Radiology',\n",
       " 'Radiology',\n",
       " 'Radiology',\n",
       " 'Radiology',\n",
       " 'Radiology',\n",
       " 'Radiology',\n",
       " 'Radiology',\n",
       " 'Radiology',\n",
       " 'Radiology',\n",
       " 'Radiology',\n",
       " 'Radiology',\n",
       " 'Radiology',\n",
       " 'Radiology',\n",
       " 'Radiology',\n",
       " 'Radiology',\n",
       " 'Radiology',\n",
       " 'Radiology',\n",
       " 'Radiology',\n",
       " 'Radiology',\n",
       " 'Radiology',\n",
       " 'Radiology',\n",
       " 'Radiology',\n",
       " 'Radiology',\n",
       " 'Radiology',\n",
       " 'Radiology',\n",
       " 'Radiology',\n",
       " 'Radiology',\n",
       " 'Radiology',\n",
       " 'Radiology',\n",
       " 'Radiology',\n",
       " 'Radiology',\n",
       " 'Radiology',\n",
       " 'Radiology',\n",
       " 'Radiology',\n",
       " 'Radiology',\n",
       " 'Radiology',\n",
       " 'Radiology',\n",
       " 'Radiology',\n",
       " 'Radiology',\n",
       " 'Radiology',\n",
       " 'Radiology',\n",
       " 'Radiology',\n",
       " 'Radiology',\n",
       " 'Radiology',\n",
       " 'Radiology',\n",
       " 'Radiology',\n",
       " 'Radiology',\n",
       " 'Radiology',\n",
       " 'Radiology',\n",
       " 'Radiology',\n",
       " 'Radiology',\n",
       " 'Radiology',\n",
       " 'Radiology',\n",
       " 'Radiology',\n",
       " 'Radiology',\n",
       " 'Radiology',\n",
       " 'Radiology',\n",
       " 'Radiology',\n",
       " 'Radiology',\n",
       " 'Radiology',\n",
       " 'Radiology',\n",
       " 'Radiology',\n",
       " 'Radiology',\n",
       " 'Radiology',\n",
       " 'Surgery',\n",
       " 'Surgery',\n",
       " 'Surgery',\n",
       " 'Surgery',\n",
       " 'Surgery',\n",
       " 'Surgery',\n",
       " 'Surgery',\n",
       " 'Surgery',\n",
       " 'Surgery',\n",
       " 'Surgery',\n",
       " 'Surgery',\n",
       " 'Surgery',\n",
       " 'Surgery',\n",
       " 'Surgery',\n",
       " 'Surgery',\n",
       " 'Surgery',\n",
       " 'Surgery',\n",
       " 'Surgery',\n",
       " 'Surgery',\n",
       " 'Surgery',\n",
       " 'Surgery',\n",
       " 'Surgery',\n",
       " 'Surgery',\n",
       " 'Surgery',\n",
       " 'Surgery']"
      ]
     },
     "execution_count": 92,
     "metadata": {},
     "output_type": "execute_result"
    }
   ],
   "execution_count": 92
  }
 ],
 "metadata": {
  "kernelspec": {
   "display_name": "Python 3",
   "language": "python",
   "name": "python3"
  },
  "language_info": {
   "codemirror_mode": {
    "name": "ipython",
    "version": 2
   },
   "file_extension": ".py",
   "mimetype": "text/x-python",
   "name": "python",
   "nbconvert_exporter": "python",
   "pygments_lexer": "ipython2",
   "version": "2.7.6"
  }
 },
 "nbformat": 4,
 "nbformat_minor": 5
}
